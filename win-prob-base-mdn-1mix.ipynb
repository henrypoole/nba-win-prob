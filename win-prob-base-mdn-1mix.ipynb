{
 "cells": [
  {
   "cell_type": "markdown",
   "metadata": {},
   "source": [
    "# Imports"
   ]
  },
  {
   "cell_type": "code",
   "execution_count": 1,
   "metadata": {},
   "outputs": [
    {
     "name": "stderr",
     "output_type": "stream",
     "text": [
      "Using TensorFlow backend.\n"
     ]
    }
   ],
   "source": [
    "import keras\n",
    "import mdn\n",
    "from scipy.stats import norm\n",
    "from sklearn.metrics import classification_report\n",
    "from sklearn.metrics import log_loss\n",
    "from sklearn.metrics import roc_curve\n",
    "from sklearn.metrics import auc\n",
    "from sklearn.metrics import roc_auc_score\n",
    "import pandas as pd\n",
    "import numpy as np\n",
    "import matplotlib.pyplot as plt\n",
    "%matplotlib inline"
   ]
  },
  {
   "cell_type": "markdown",
   "metadata": {},
   "source": [
    "# Load data"
   ]
  },
  {
   "cell_type": "code",
   "execution_count": 2,
   "metadata": {},
   "outputs": [],
   "source": [
    "X_train = pd.read_csv('./data/X_train_normal.csv', usecols=['GAME_TIME', 'HT_SCORE_DIFF','HT_POSS'])\n",
    "X_test_internal = pd.read_csv('./data/X_test_internal_normal.csv', usecols=['GAME_TIME', 'HT_SCORE_DIFF','HT_POSS'])\n",
    "X_test_external = pd.read_csv('./data/X_test_external_normal.csv', usecols=['GAME_TIME', 'HT_SCORE_DIFF','HT_POSS'])\n",
    "Y_train = pd.read_csv('./data/Y_train_binary.csv')\n",
    "Y_test_internal = pd.read_csv('./data/Y_test_internal_binary.csv')\n",
    "Y_test_external = pd.read_csv('./data/Y_test_external_binary.csv')\n",
    "Y_train_continuous = pd.read_csv('./data/Y_train_continuous.csv')\n",
    "Y_test_internal_continuous = pd.read_csv('./data/Y_test_internal_continuous.csv')\n",
    "Y_test_external_continuous = pd.read_csv('./data/Y_test_external_continuous.csv')"
   ]
  },
  {
   "cell_type": "markdown",
   "metadata": {},
   "source": [
    "# Define neural network architecture"
   ]
  },
  {
   "cell_type": "code",
   "execution_count": 3,
   "metadata": {},
   "outputs": [
    {
     "name": "stderr",
     "output_type": "stream",
     "text": [
      "WARNING: Logging before flag parsing goes to stderr.\n",
      "W0117 08:32:15.422027 4573046208 deprecation_wrapper.py:119] From /Users/henrypoole/anaconda3/envs/thesis-v2/lib/python3.6/site-packages/keras/backend/tensorflow_backend.py:74: The name tf.get_default_graph is deprecated. Please use tf.compat.v1.get_default_graph instead.\n",
      "\n",
      "W0117 08:32:15.449183 4573046208 deprecation_wrapper.py:119] From /Users/henrypoole/anaconda3/envs/thesis-v2/lib/python3.6/site-packages/keras/backend/tensorflow_backend.py:517: The name tf.placeholder is deprecated. Please use tf.compat.v1.placeholder instead.\n",
      "\n",
      "W0117 08:32:15.451034 4573046208 deprecation_wrapper.py:119] From /Users/henrypoole/anaconda3/envs/thesis-v2/lib/python3.6/site-packages/keras/backend/tensorflow_backend.py:4138: The name tf.random_uniform is deprecated. Please use tf.random.uniform instead.\n",
      "\n",
      "W0117 08:32:15.506299 4573046208 deprecation_wrapper.py:119] From /Users/henrypoole/anaconda3/envs/thesis-v2/lib/python3.6/site-packages/keras/optimizers.py:790: The name tf.train.Optimizer is deprecated. Please use tf.compat.v1.train.Optimizer instead.\n",
      "\n",
      "W0117 08:32:15.540815 4573046208 deprecation.py:323] From /Users/henrypoole/anaconda3/envs/thesis-v2/lib/python3.6/site-packages/tensorflow_probability/python/distributions/mixture.py:154: Categorical.event_size (from tensorflow_probability.python.distributions.categorical) is deprecated and will be removed after 2019-05-19.\n",
      "Instructions for updating:\n",
      "The `event_size` property is deprecated.  Use `num_categories` instead.  They have the same value, but `event_size` is misnamed.\n",
      "W0117 08:32:15.570976 4573046208 deprecation.py:323] From /Users/henrypoole/anaconda3/envs/thesis-v2/lib/python3.6/site-packages/tensorflow/python/ops/math_ops.py:2403: add_dispatch_support.<locals>.wrapper (from tensorflow.python.ops.array_ops) is deprecated and will be removed in a future version.\n",
      "Instructions for updating:\n",
      "Use tf.where in 2.0, which has the same broadcast rule as np.where\n"
     ]
    },
    {
     "name": "stdout",
     "output_type": "stream",
     "text": [
      "_________________________________________________________________\n",
      "Layer (type)                 Output Shape              Param #   \n",
      "=================================================================\n",
      "dense_1 (Dense)              (None, 4)                 16        \n",
      "_________________________________________________________________\n",
      "mdn_1 (MDN)                  (None, 3)                 15        \n",
      "=================================================================\n",
      "Total params: 31\n",
      "Trainable params: 31\n",
      "Non-trainable params: 0\n",
      "_________________________________________________________________\n"
     ]
    }
   ],
   "source": [
    "N_HIDDEN = 4\n",
    "N_MIXES = 1\n",
    "OUTPUT_DIMS = 1\n",
    "num_input_features = X_train.shape[1]\n",
    "model = keras.Sequential()\n",
    "model.add(keras.layers.Dense(N_HIDDEN, input_dim=num_input_features, activation='tanh'))\n",
    "model.add(mdn.MDN(OUTPUT_DIMS, N_MIXES))\n",
    "model.compile(loss=mdn.get_mixture_loss_func(1, N_MIXES), optimizer=keras.optimizers.Adam())\n",
    "model.summary()"
   ]
  },
  {
   "cell_type": "markdown",
   "metadata": {},
   "source": [
    "# Fit model"
   ]
  },
  {
   "cell_type": "code",
   "execution_count": 4,
   "metadata": {},
   "outputs": [
    {
     "name": "stderr",
     "output_type": "stream",
     "text": [
      "W0117 08:32:15.812294 4573046208 deprecation_wrapper.py:119] From /Users/henrypoole/anaconda3/envs/thesis-v2/lib/python3.6/site-packages/keras/backend/tensorflow_backend.py:986: The name tf.assign_add is deprecated. Please use tf.compat.v1.assign_add instead.\n",
      "\n",
      "W0117 08:32:15.899260 4573046208 deprecation_wrapper.py:119] From /Users/henrypoole/anaconda3/envs/thesis-v2/lib/python3.6/site-packages/keras/backend/tensorflow_backend.py:973: The name tf.assign is deprecated. Please use tf.compat.v1.assign instead.\n",
      "\n"
     ]
    },
    {
     "name": "stdout",
     "output_type": "stream",
     "text": [
      "Train on 1989224 samples, validate on 224771 samples\n",
      "Epoch 1/5\n",
      "1989224/1989224 [==============================] - 174s 87us/step - loss: 6.0136 - val_loss: 3.5916\n",
      "Epoch 2/5\n",
      "1989224/1989224 [==============================] - 175s 88us/step - loss: 3.5643 - val_loss: 3.5895\n",
      "Epoch 3/5\n",
      "1989224/1989224 [==============================] - 175s 88us/step - loss: 3.5608 - val_loss: 3.5867\n",
      "Epoch 4/5\n",
      "1989224/1989224 [==============================] - 177s 89us/step - loss: 3.5568 - val_loss: 3.5848\n",
      "Epoch 5/5\n",
      "1989224/1989224 [==============================] - 178s 90us/step - loss: 3.5547 - val_loss: 3.5845\n"
     ]
    }
   ],
   "source": [
    "model_fit = model.fit(x=X_train, y=Y_train_continuous, epochs=5, validation_data=(X_test_internal, Y_test_internal_continuous), batch_size=32)"
   ]
  },
  {
   "cell_type": "markdown",
   "metadata": {},
   "source": [
    "# Save model"
   ]
  },
  {
   "cell_type": "code",
   "execution_count": 5,
   "metadata": {},
   "outputs": [],
   "source": [
    "model_json = model.to_json()\n",
    "with open(\"base_mdn_model_{}mix.json\".format(N_MIXES), \"w\") as json_file:\n",
    "    json_file.write(model_json)\n",
    "# serialize weights to HDF5\n",
    "model.save_weights(\"base_mdn_model_{}mix.h5\".format(N_MIXES))"
   ]
  },
  {
   "cell_type": "markdown",
   "metadata": {},
   "source": [
    "# Plot training/validation loss"
   ]
  },
  {
   "cell_type": "code",
   "execution_count": 6,
   "metadata": {},
   "outputs": [
    {
     "data": {
      "image/png": "[encoded data removed]",
      "text/plain": [
       "<Figure size 720x360 with 1 Axes>"
      ]
     },
     "metadata": {
      "needs_background": "light"
     },
     "output_type": "display_data"
    }
   ],
   "source": [
    "plt.figure(figsize=(10, 5))\n",
    "plt.plot(model_fit.history['loss'])\n",
    "plt.plot(model_fit.history['val_loss'])\n",
    "plt.title('MDN With {} Mixture Component Base Features Training Loss'.format(N_MIXES))\n",
    "plt.ylabel('Loss')\n",
    "plt.xlabel('Epoch')\n",
    "plt.legend(['Train', 'Validation'], loc='upper left')\n",
    "plt.show()"
   ]
  },
  {
   "cell_type": "markdown",
   "metadata": {},
   "source": [
    "# Make binary class and probabilistic predictions"
   ]
  },
  {
   "cell_type": "code",
   "execution_count": 7,
   "metadata": {},
   "outputs": [],
   "source": [
    "# Define helper functions\n",
    "\n",
    "# calculate cdf of mixture\n",
    "def calculate_mixture_cdf(mus, sigmas, weights, x=0):\n",
    "    mixture_cdf = 0.0\n",
    "    for component_num, weight in enumerate(weights):\n",
    "        #print('Mu =  ', mus[component_num])\n",
    "        #print('Sigma = ', sigmas[component_num])\n",
    "        #print('Weight = ', weight)\n",
    "        component_dist = norm(loc=mus[component_num], scale=sigmas[component_num])\n",
    "        component_cdf = component_dist.cdf(x)\n",
    "        #print('Component CDF = ', component_cdf)\n",
    "        mixture_cdf += (component_cdf * weight)\n",
    "        \n",
    "    return mixture_cdf\n",
    "\n",
    "# calculate win prob as 1 - cdf\n",
    "def calculate_home_team_win_prob(mus, sigmas, weights):\n",
    "    home_team_win_prob = 1 - calculate_mixture_cdf(mus, sigmas, weights)\n",
    "    return home_team_win_prob\n",
    "\n",
    "# mdn predict function\n",
    "def mdn_predict(mdn_model, x, num_mixes, num_output_dims):\n",
    "    pred_raw_params = mdn_model.predict(x)\n",
    "    pred_split_params = np.apply_along_axis(mdn.split_mixture_params, 1, pred_raw_params, num_output_dims, num_mixes)\n",
    "    pred_split_params[:, 2, :] = np.apply_along_axis(mdn.softmax, axis=1, arr=pred_split_params[:, 2, :])\n",
    "    pred_mus = pred_split_params[:, 0, :]\n",
    "    pred_sigmas = np.sqrt(pred_split_params[:, 1, :])\n",
    "    pred_weights = pred_split_params[:, 2, :]\n",
    "    pred_win_prob = np.zeros(pred_split_params.shape[0])\n",
    "    for i in range(len(pred_win_prob)):\n",
    "        pred_win_prob[i] = calculate_home_team_win_prob(pred_mus[i, :], pred_sigmas[i, :], pred_weights[i, :])\n",
    "        \n",
    "    return pred_win_prob"
   ]
  },
  {
   "cell_type": "code",
   "execution_count": 8,
   "metadata": {},
   "outputs": [],
   "source": [
    "# Make probabilistic predictions\n",
    "Y_train_prob_pred = mdn_predict(model, X_train, N_MIXES, OUTPUT_DIMS)\n",
    "Y_test_internal_prob_pred = mdn_predict(model, X_test_internal, N_MIXES, OUTPUT_DIMS)\n",
    "Y_test_external_prob_pred = mdn_predict(model, X_test_external, N_MIXES, OUTPUT_DIMS)\n",
    "\n",
    "# Convert to binary predictions\n",
    "Y_train_class_pred = np.where(Y_train_prob_pred <= 0.5, 0, 1)\n",
    "Y_test_internal_class_pred = np.where(Y_test_internal_prob_pred <= 0.5, 0, 1)\n",
    "Y_test_external_class_pred = np.where(Y_test_external_prob_pred <= 0.5, 0, 1)\n",
    "\n",
    "# Save predictions as .csv\n",
    "Y_train_pred = pd.DataFrame({'class_pred':Y_train_class_pred, 'prob_pred':Y_train_prob_pred})\n",
    "Y_train_pred.to_csv('./data/base_mdn_{}mix_train_predictions.csv'.format(N_MIXES), index=False)\n",
    "\n",
    "Y_test_internal_pred = pd.DataFrame({'class_pred':Y_test_internal_class_pred, 'prob_pred':Y_test_internal_prob_pred})\n",
    "Y_test_internal_pred.to_csv('./data/base_mdn_{}mix_test_internal_predictions.csv'.format(N_MIXES), index=False)\n",
    "\n",
    "Y_test_external_pred = pd.DataFrame({'class_pred':Y_test_external_class_pred, 'prob_pred':Y_test_external_prob_pred})\n",
    "Y_test_external_pred.to_csv('./data/base_mdn_{}mix_test_external_predictions.csv'.format(N_MIXES), index=False)"
   ]
  },
  {
   "cell_type": "markdown",
   "metadata": {},
   "source": [
    "# Evaluate Results"
   ]
  },
  {
   "cell_type": "code",
   "execution_count": 9,
   "metadata": {},
   "outputs": [],
   "source": [
    "# Classification reports\n",
    "train_classification_report = classification_report(Y_train, Y_train_class_pred, target_names=['Away Team Win', 'Home Team Win'], digits=4)\n",
    "test_internal_classification_report = classification_report(Y_test_internal, Y_test_internal_class_pred, target_names=['Away Team Win', 'Home Team Win'], digits=4)\n",
    "test_external_classification_report = classification_report(Y_test_external, Y_test_external_class_pred, target_names=['Away Team Win', 'Home Team Win'], digits=4)"
   ]
  },
  {
   "cell_type": "code",
   "execution_count": 10,
   "metadata": {},
   "outputs": [
    {
     "name": "stdout",
     "output_type": "stream",
     "text": [
      "               precision    recall  f1-score   support\n",
      "\n",
      "Away Team Win     0.7243    0.5780    0.6430    779434\n",
      "Home Team Win     0.7594    0.8583    0.8058   1209790\n",
      "\n",
      "     accuracy                         0.7485   1989224\n",
      "    macro avg     0.7419    0.7181    0.7244   1989224\n",
      " weighted avg     0.7457    0.7485    0.7420   1989224\n",
      "\n"
     ]
    }
   ],
   "source": [
    "print(train_classification_report)"
   ]
  },
  {
   "cell_type": "code",
   "execution_count": 11,
   "metadata": {},
   "outputs": [
    {
     "name": "stdout",
     "output_type": "stream",
     "text": [
      "               precision    recall  f1-score   support\n",
      "\n",
      "Away Team Win     0.7530    0.5858    0.6590     96760\n",
      "Home Team Win     0.7319    0.8548    0.7886    128011\n",
      "\n",
      "     accuracy                         0.7390    224771\n",
      "    macro avg     0.7425    0.7203    0.7238    224771\n",
      " weighted avg     0.7410    0.7390    0.7328    224771\n",
      "\n"
     ]
    }
   ],
   "source": [
    "print(test_internal_classification_report)"
   ]
  },
  {
   "cell_type": "code",
   "execution_count": 12,
   "metadata": {},
   "outputs": [
    {
     "name": "stdout",
     "output_type": "stream",
     "text": [
      "               precision    recall  f1-score   support\n",
      "\n",
      "Away Team Win     0.7470    0.5967    0.6634    104262\n",
      "Home Team Win     0.7146    0.8332    0.7694    126379\n",
      "\n",
      "     accuracy                         0.7263    230641\n",
      "    macro avg     0.7308    0.7150    0.7164    230641\n",
      " weighted avg     0.7293    0.7263    0.7215    230641\n",
      "\n"
     ]
    }
   ],
   "source": [
    "print(test_external_classification_report)"
   ]
  },
  {
   "cell_type": "code",
   "execution_count": 13,
   "metadata": {},
   "outputs": [],
   "source": [
    "# Calculate log loss\n",
    "train_log_loss = log_loss(Y_train, Y_train_prob_pred)\n",
    "test_internal_log_loss = log_loss(Y_test_internal, Y_test_internal_prob_pred)\n",
    "test_external_log_loss = log_loss(Y_test_external, Y_test_external_prob_pred)"
   ]
  },
  {
   "cell_type": "code",
   "execution_count": 14,
   "metadata": {},
   "outputs": [
    {
     "name": "stdout",
     "output_type": "stream",
     "text": [
      "0.7541575938604271\n"
     ]
    }
   ],
   "source": [
    "print(train_log_loss)"
   ]
  },
  {
   "cell_type": "code",
   "execution_count": 15,
   "metadata": {},
   "outputs": [
    {
     "name": "stdout",
     "output_type": "stream",
     "text": [
      "0.8449223710995184\n"
     ]
    }
   ],
   "source": [
    "print(test_internal_log_loss)"
   ]
  },
  {
   "cell_type": "code",
   "execution_count": 16,
   "metadata": {},
   "outputs": [
    {
     "name": "stdout",
     "output_type": "stream",
     "text": [
      "0.8753441580919817\n"
     ]
    }
   ],
   "source": [
    "print(test_external_log_loss)"
   ]
  },
  {
   "cell_type": "code",
   "execution_count": 17,
   "metadata": {},
   "outputs": [],
   "source": [
    "# Calculate area under ROC curve\n",
    "\n",
    "def plot_roc_curve(true, pred, title):\n",
    "    fpr, tpr, threshold = roc_curve(true, pred)\n",
    "    roc_auc = auc(fpr, tpr)\n",
    "    plt.title('{} ROC Curve'.format(title))\n",
    "    plt.plot(fpr, tpr, 'b', label = 'AUC = %0.4f' % roc_auc)\n",
    "    plt.legend(loc = 'lower right')\n",
    "    plt.plot([0, 1], [0, 1],'r--')\n",
    "    plt.xlim([0, 1])\n",
    "    plt.ylim([0, 1])\n",
    "    plt.ylabel('True Positive Rate')\n",
    "    plt.xlabel('False Positive Rate')\n",
    "    plt.show()"
   ]
  },
  {
   "cell_type": "code",
   "execution_count": 18,
   "metadata": {},
   "outputs": [
    {
     "data": {
      "image/png": "[encoded data removed]",
      "text/plain": [
       "<Figure size 432x288 with 1 Axes>"
      ]
     },
     "metadata": {
      "needs_background": "light"
     },
     "output_type": "display_data"
    }
   ],
   "source": [
    "plot_roc_curve(Y_train, Y_train_prob_pred, 'MDN With {} Mixture Component: Training Set'.format(N_MIXES))"
   ]
  },
  {
   "cell_type": "code",
   "execution_count": 19,
   "metadata": {},
   "outputs": [
    {
     "data": {
      "image/png": "[encoded data removed]",
      "text/plain": [
       "<Figure size 432x288 with 1 Axes>"
      ]
     },
     "metadata": {
      "needs_background": "light"
     },
     "output_type": "display_data"
    }
   ],
   "source": [
    "plot_roc_curve(Y_test_internal, Y_test_internal_prob_pred, 'MDN With {} Mixture Component: Internal Testing Set'.format(N_MIXES))"
   ]
  },
  {
   "cell_type": "code",
   "execution_count": 20,
   "metadata": {},
   "outputs": [
    {
     "data": {
      "image/png": "[encoded data removed]",
      "text/plain": [
       "<Figure size 432x288 with 1 Axes>"
      ]
     },
     "metadata": {
      "needs_background": "light"
     },
     "output_type": "display_data"
    }
   ],
   "source": [
    "plot_roc_curve(Y_test_external, Y_test_external_prob_pred, 'MDN With {} Mixture Component: External Testing Set'.format(N_MIXES))"
   ]
  },
  {
   "cell_type": "code",
   "execution_count": null,
   "metadata": {},
   "outputs": [],
   "source": []
  },
  {
   "cell_type": "code",
   "execution_count": null,
   "metadata": {},
   "outputs": [],
   "source": []
  }
 ],
 "metadata": {
  "kernelspec": {
   "display_name": "Python 3",
   "language": "python",
   "name": "python3"
  },
  "language_info": {
   "codemirror_mode": {
    "name": "ipython",
    "version": 3
   },
   "file_extension": ".py",
   "mimetype": "text/x-python",
   "name": "python",
   "nbconvert_exporter": "python",
   "pygments_lexer": "ipython3",
   "version": "3.6.8"
  }
 },
 "nbformat": 4,
 "nbformat_minor": 2
}
