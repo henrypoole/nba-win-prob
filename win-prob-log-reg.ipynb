{
 "cells": [
  {
   "cell_type": "markdown",
   "metadata": {},
   "source": [
    "# Imports"
   ]
  },
  {
   "cell_type": "code",
   "execution_count": 1,
   "metadata": {},
   "outputs": [
    {
     "name": "stderr",
     "output_type": "stream",
     "text": [
      "Using TensorFlow backend.\n"
     ]
    }
   ],
   "source": [
    "from sklearn.linear_model import LogisticRegression\n",
    "from sklearn.metrics import classification_report\n",
    "from sklearn.metrics import log_loss\n",
    "from sklearn.metrics import roc_curve\n",
    "from sklearn.metrics import auc\n",
    "from sklearn.metrics import roc_auc_score\n",
    "import numpy as np\n",
    "import pandas as pd\n",
    "import matplotlib.pyplot as plt\n",
    "import keras\n",
    "%matplotlib inline"
   ]
  },
  {
   "cell_type": "markdown",
   "metadata": {},
   "source": [
    "# Load data"
   ]
  },
  {
   "cell_type": "code",
   "execution_count": 2,
   "metadata": {},
   "outputs": [],
   "source": [
    "X_train = pd.read_csv('./data/X_train.csv', usecols=['GAME_TIME', 'HT_SCORE_DIFF','HT_POSS'])\n",
    "X_test_internal = pd.read_csv('./data/X_test_internal.csv', usecols=['GAME_TIME', 'HT_SCORE_DIFF','HT_POSS'])\n",
    "X_test_external = pd.read_csv('./data/X_test_external.csv', usecols=['GAME_TIME', 'HT_SCORE_DIFF','HT_POSS'])\n",
    "Y_train = pd.read_csv('./data/Y_train_binary.csv')\n",
    "Y_test_internal = pd.read_csv('./data/Y_test_internal_binary.csv')\n",
    "Y_test_external = pd.read_csv('./data/Y_test_external_binary.csv')"
   ]
  },
  {
   "cell_type": "markdown",
   "metadata": {},
   "source": [
    "# Fit logistic regression model"
   ]
  },
  {
   "cell_type": "code",
   "execution_count": 3,
   "metadata": {},
   "outputs": [
    {
     "name": "stderr",
     "output_type": "stream",
     "text": [
      "/Users/henrypoole/anaconda3/envs/thesis-v2/lib/python3.6/site-packages/sklearn/linear_model/logistic.py:432: FutureWarning: Default solver will be changed to 'lbfgs' in 0.22. Specify a solver to silence this warning.\n",
      "  FutureWarning)\n",
      "/Users/henrypoole/anaconda3/envs/thesis-v2/lib/python3.6/site-packages/sklearn/utils/validation.py:724: DataConversionWarning: A column-vector y was passed when a 1d array was expected. Please change the shape of y to (n_samples, ), for example using ravel().\n",
      "  y = column_or_1d(y, warn=True)\n"
     ]
    }
   ],
   "source": [
    "log_reg_model = LogisticRegression(random_state=0).fit(X_train, Y_train)"
   ]
  },
  {
   "cell_type": "markdown",
   "metadata": {},
   "source": [
    "# Get model coefficients"
   ]
  },
  {
   "cell_type": "code",
   "execution_count": 12,
   "metadata": {},
   "outputs": [
    {
     "name": "stdout",
     "output_type": "stream",
     "text": [
      "[[-1.00125023e-04  1.67728345e-01 -2.00931798e-02]]\n"
     ]
    }
   ],
   "source": [
    "print(log_reg_model.coef_)"
   ]
  },
  {
   "cell_type": "code",
   "execution_count": 8,
   "metadata": {},
   "outputs": [
    {
     "name": "stdout",
     "output_type": "stream",
     "text": [
      "[[0.99989988 1.1826153  0.98010734]]\n"
     ]
    }
   ],
   "source": [
    "print(np.exp(log_reg_model.coef_))"
   ]
  },
  {
   "cell_type": "code",
   "execution_count": 11,
   "metadata": {},
   "outputs": [
    {
     "name": "stdout",
     "output_type": "stream",
     "text": [
      "[0.47852542]\n"
     ]
    }
   ],
   "source": [
    "print(log_reg_model.intercept_)"
   ]
  },
  {
   "cell_type": "code",
   "execution_count": 10,
   "metadata": {},
   "outputs": [
    {
     "name": "stdout",
     "output_type": "stream",
     "text": [
      "[0.61739961]\n"
     ]
    }
   ],
   "source": [
    "print(np.exp(log_reg_model.intercept_) / (1 + np.exp(log_reg_model.intercept_)))"
   ]
  },
  {
   "cell_type": "code",
   "execution_count": 7,
   "metadata": {},
   "outputs": [
    {
     "name": "stdout",
     "output_type": "stream",
     "text": [
      "<bound method BaseEstimator.get_params of LogisticRegression(C=1.0, class_weight=None, dual=False, fit_intercept=True,\n",
      "                   intercept_scaling=1, l1_ratio=None, max_iter=100,\n",
      "                   multi_class='warn', n_jobs=None, penalty='l2',\n",
      "                   random_state=0, solver='warn', tol=0.0001, verbose=0,\n",
      "                   warm_start=False)>\n"
     ]
    }
   ],
   "source": [
    "print(log_reg_model.get_params)"
   ]
  },
  {
   "cell_type": "markdown",
   "metadata": {},
   "source": [
    "# Make binary class and probabilistic predictions"
   ]
  },
  {
   "cell_type": "code",
   "execution_count": 106,
   "metadata": {},
   "outputs": [],
   "source": [
    "# Make class predictions on internal/external test sets\n",
    "Y_train_class_pred = log_reg_model.predict(X_train)\n",
    "Y_test_internal_class_pred = log_reg_model.predict(X_test_internal)\n",
    "Y_test_external_class_pred = log_reg_model.predict(X_test_external)\n",
    "\n",
    "# Make probabilistic predictions on internal/external test sets\n",
    "Y_train_prob_pred = log_reg_model.predict_proba(X_train)[:, 1]\n",
    "Y_test_internal_prob_pred = log_reg_model.predict_proba(X_test_internal)[:, 1]\n",
    "Y_test_external_prob_pred = log_reg_model.predict_proba(X_test_external)[:, 1]\n",
    "\n",
    "# Save predictions as .csv\n",
    "Y_train_pred = pd.DataFrame({'class_pred':Y_train_class_pred, 'prob_pred':Y_train_prob_pred})\n",
    "Y_train_pred.to_csv('./data/log_reg_train_predictions.csv', index=False)\n",
    "\n",
    "Y_test_internal_pred = pd.DataFrame({'class_pred':Y_test_internal_class_pred, 'prob_pred':Y_test_internal_prob_pred})\n",
    "Y_test_internal_pred.to_csv('./data/log_reg_test_internal_predictions.csv', index=False)\n",
    "\n",
    "Y_test_external_pred = pd.DataFrame({'class_pred':Y_test_external_class_pred, 'prob_pred':Y_test_external_prob_pred})\n",
    "Y_test_external_pred.to_csv('./data/log_reg_test_external_predictions.csv', index=False)"
   ]
  },
  {
   "cell_type": "code",
   "execution_count": 107,
   "metadata": {},
   "outputs": [
    {
     "name": "stdout",
     "output_type": "stream",
     "text": [
      "(1989224,)\n"
     ]
    }
   ],
   "source": [
    "print(Y_train_prob_pred.shape)"
   ]
  },
  {
   "cell_type": "markdown",
   "metadata": {},
   "source": [
    "# Evaluate results"
   ]
  },
  {
   "cell_type": "code",
   "execution_count": 108,
   "metadata": {},
   "outputs": [],
   "source": [
    "# Classification reports\n",
    "train_classification_report = classification_report(Y_train, Y_train_class_pred, target_names=['Away Team Win', 'Home Team Win'], digits=4)\n",
    "test_internal_classification_report = classification_report(Y_test_internal, Y_test_internal_class_pred, target_names=['Away Team Win', 'Home Team Win'], digits=4)\n",
    "test_external_classification_report = classification_report(Y_test_external, Y_test_external_class_pred, target_names=['Away Team Win', 'Home Team Win'], digits=4)"
   ]
  },
  {
   "cell_type": "code",
   "execution_count": 109,
   "metadata": {
    "scrolled": true
   },
   "outputs": [
    {
     "name": "stdout",
     "output_type": "stream",
     "text": [
      "               precision    recall  f1-score   support\n",
      "\n",
      "Away Team Win     0.7133    0.5905    0.6461    779434\n",
      "Home Team Win     0.7625    0.8471    0.8026   1209790\n",
      "\n",
      "     accuracy                         0.7465   1989224\n",
      "    macro avg     0.7379    0.7188    0.7243   1989224\n",
      " weighted avg     0.7432    0.7465    0.7413   1989224\n",
      "\n"
     ]
    }
   ],
   "source": [
    "print(train_classification_report)"
   ]
  },
  {
   "cell_type": "code",
   "execution_count": 110,
   "metadata": {},
   "outputs": [
    {
     "name": "stdout",
     "output_type": "stream",
     "text": [
      "               precision    recall  f1-score   support\n",
      "\n",
      "Away Team Win     0.7434    0.5984    0.6631     96760\n",
      "Home Team Win     0.7354    0.8439    0.7859    128011\n",
      "\n",
      "     accuracy                         0.7382    224771\n",
      "    macro avg     0.7394    0.7211    0.7245    224771\n",
      " weighted avg     0.7389    0.7382    0.7331    224771\n",
      "\n"
     ]
    }
   ],
   "source": [
    "print(test_internal_classification_report)"
   ]
  },
  {
   "cell_type": "code",
   "execution_count": 111,
   "metadata": {},
   "outputs": [
    {
     "name": "stdout",
     "output_type": "stream",
     "text": [
      "               precision    recall  f1-score   support\n",
      "\n",
      "Away Team Win     0.7389    0.6089    0.6676    104262\n",
      "Home Team Win     0.7182    0.8225    0.7668    126379\n",
      "\n",
      "     accuracy                         0.7259    230641\n",
      "    macro avg     0.7285    0.7157    0.7172    230641\n",
      " weighted avg     0.7276    0.7259    0.7220    230641\n",
      "\n"
     ]
    }
   ],
   "source": [
    "print(test_external_classification_report)"
   ]
  },
  {
   "cell_type": "code",
   "execution_count": 112,
   "metadata": {},
   "outputs": [],
   "source": [
    "# Calculate log loss\n",
    "train_log_loss = log_loss(Y_train, Y_train_prob_pred)\n",
    "test_internal_log_loss = log_loss(Y_test_internal, Y_test_internal_prob_pred)\n",
    "test_external_log_loss = log_loss(Y_test_external, Y_test_external_prob_pred)"
   ]
  },
  {
   "cell_type": "code",
   "execution_count": 113,
   "metadata": {},
   "outputs": [
    {
     "name": "stdout",
     "output_type": "stream",
     "text": [
      "0.5019751893280499\n"
     ]
    }
   ],
   "source": [
    "print(train_log_loss)"
   ]
  },
  {
   "cell_type": "code",
   "execution_count": 114,
   "metadata": {},
   "outputs": [
    {
     "name": "stdout",
     "output_type": "stream",
     "text": [
      "0.5184425528288314\n"
     ]
    }
   ],
   "source": [
    "print(test_internal_log_loss)"
   ]
  },
  {
   "cell_type": "code",
   "execution_count": 115,
   "metadata": {},
   "outputs": [
    {
     "name": "stdout",
     "output_type": "stream",
     "text": [
      "0.5276979482386669\n"
     ]
    }
   ],
   "source": [
    "print(test_external_log_loss)"
   ]
  },
  {
   "cell_type": "code",
   "execution_count": 116,
   "metadata": {
    "scrolled": false
   },
   "outputs": [],
   "source": [
    "# Plot and calculate area under ROC curve\n",
    "\n",
    "def plot_roc_curve(true, pred, title):\n",
    "    fpr, tpr, threshold = roc_curve(true, pred)\n",
    "    roc_auc = auc(fpr, tpr)\n",
    "    plt.title('{} ROC Curve'.format(title))\n",
    "    plt.plot(fpr, tpr, 'b', label = 'AUC = %0.4f' % roc_auc)\n",
    "    plt.legend(loc = 'lower right')\n",
    "    plt.plot([0, 1], [0, 1],'r--')\n",
    "    plt.xlim([0, 1])\n",
    "    plt.ylim([0, 1])\n",
    "    plt.ylabel('True Positive Rate')\n",
    "    plt.xlabel('False Positive Rate')\n",
    "    plt.show()"
   ]
  },
  {
   "cell_type": "code",
   "execution_count": 117,
   "metadata": {},
   "outputs": [
    {
     "data": {
      "image/png": "[encoded data removed]",
      "text/plain": [
       "<Figure size 432x288 with 1 Axes>"
      ]
     },
     "metadata": {
      "needs_background": "light"
     },
     "output_type": "display_data"
    }
   ],
   "source": [
    "plot_roc_curve(Y_train, Y_train_prob_pred, 'Logistic Regression: Training Set')"
   ]
  },
  {
   "cell_type": "code",
   "execution_count": 118,
   "metadata": {},
   "outputs": [
    {
     "data": {
      "image/png": "[encoded data removed]",
      "text/plain": [
       "<Figure size 432x288 with 1 Axes>"
      ]
     },
     "metadata": {
      "needs_background": "light"
     },
     "output_type": "display_data"
    }
   ],
   "source": [
    "plot_roc_curve(Y_test_internal, Y_test_internal_prob_pred, 'Logistic Regression: Internal Testing Set')"
   ]
  },
  {
   "cell_type": "code",
   "execution_count": 119,
   "metadata": {},
   "outputs": [
    {
     "data": {
      "image/png": "[encoded data removed]",
      "text/plain": [
       "<Figure size 432x288 with 1 Axes>"
      ]
     },
     "metadata": {
      "needs_background": "light"
     },
     "output_type": "display_data"
    }
   ],
   "source": [
    "plot_roc_curve(Y_test_external, Y_test_external_prob_pred, 'Logistic Regression: External Testing Set')"
   ]
  },
  {
   "cell_type": "code",
   "execution_count": null,
   "metadata": {},
   "outputs": [],
   "source": []
  }
 ],
 "metadata": {
  "kernelspec": {
   "display_name": "Python 3",
   "language": "python",
   "name": "python3"
  },
  "language_info": {
   "codemirror_mode": {
    "name": "ipython",
    "version": 3
   },
   "file_extension": ".py",
   "mimetype": "text/x-python",
   "name": "python",
   "nbconvert_exporter": "python",
   "pygments_lexer": "ipython3",
   "version": "3.6.8"
  }
 },
 "nbformat": 4,
 "nbformat_minor": 2
}
