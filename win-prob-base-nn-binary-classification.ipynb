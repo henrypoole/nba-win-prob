{
 "cells": [
  {
   "cell_type": "markdown",
   "metadata": {},
   "source": [
    "# Imports"
   ]
  },
  {
   "cell_type": "code",
   "execution_count": 1,
   "metadata": {},
   "outputs": [
    {
     "name": "stderr",
     "output_type": "stream",
     "text": [
      "Using TensorFlow backend.\n"
     ]
    }
   ],
   "source": [
    "import keras\n",
    "import mdn\n",
    "from scipy.stats import norm\n",
    "from sklearn.metrics import classification_report\n",
    "from sklearn.metrics import log_loss\n",
    "from sklearn.metrics import roc_curve\n",
    "from sklearn.metrics import auc\n",
    "from sklearn.metrics import roc_auc_score\n",
    "import numpy as np\n",
    "import matplotlib.pyplot as plt\n",
    "import pandas as pd\n",
    "%matplotlib inline"
   ]
  },
  {
   "cell_type": "markdown",
   "metadata": {},
   "source": [
    "# Load data"
   ]
  },
  {
   "cell_type": "code",
   "execution_count": 2,
   "metadata": {},
   "outputs": [],
   "source": [
    "X_train = pd.read_csv('./data/X_train_normal.csv', usecols=['GAME_TIME', 'HT_SCORE_DIFF','HT_POSS'])\n",
    "X_test_internal = pd.read_csv('./data/X_test_internal_normal.csv', usecols=['GAME_TIME', 'HT_SCORE_DIFF','HT_POSS'])\n",
    "X_test_external = pd.read_csv('./data/X_test_external_normal.csv', usecols=['GAME_TIME', 'HT_SCORE_DIFF','HT_POSS'])\n",
    "Y_train = pd.read_csv('./data/Y_train_binary.csv')\n",
    "Y_test_internal = pd.read_csv('./data/Y_test_internal_binary.csv')\n",
    "Y_test_external = pd.read_csv('./data/Y_test_external_binary.csv')"
   ]
  },
  {
   "cell_type": "markdown",
   "metadata": {},
   "source": [
    "# Define neural network architecture"
   ]
  },
  {
   "cell_type": "code",
   "execution_count": 3,
   "metadata": {},
   "outputs": [
    {
     "name": "stderr",
     "output_type": "stream",
     "text": [
      "WARNING: Logging before flag parsing goes to stderr.\n",
      "W0125 00:43:32.423195 4580476352 deprecation_wrapper.py:119] From /Users/henrypoole/anaconda3/envs/thesis-v2/lib/python3.6/site-packages/keras/backend/tensorflow_backend.py:74: The name tf.get_default_graph is deprecated. Please use tf.compat.v1.get_default_graph instead.\n",
      "\n",
      "W0125 00:43:32.493240 4580476352 deprecation_wrapper.py:119] From /Users/henrypoole/anaconda3/envs/thesis-v2/lib/python3.6/site-packages/keras/backend/tensorflow_backend.py:517: The name tf.placeholder is deprecated. Please use tf.compat.v1.placeholder instead.\n",
      "\n",
      "W0125 00:43:32.513210 4580476352 deprecation_wrapper.py:119] From /Users/henrypoole/anaconda3/envs/thesis-v2/lib/python3.6/site-packages/keras/backend/tensorflow_backend.py:4138: The name tf.random_uniform is deprecated. Please use tf.random.uniform instead.\n",
      "\n",
      "W0125 00:43:32.568600 4580476352 deprecation_wrapper.py:119] From /Users/henrypoole/anaconda3/envs/thesis-v2/lib/python3.6/site-packages/keras/optimizers.py:790: The name tf.train.Optimizer is deprecated. Please use tf.compat.v1.train.Optimizer instead.\n",
      "\n",
      "W0125 00:43:32.573899 4580476352 deprecation_wrapper.py:119] From /Users/henrypoole/anaconda3/envs/thesis-v2/lib/python3.6/site-packages/keras/backend/tensorflow_backend.py:3376: The name tf.log is deprecated. Please use tf.math.log instead.\n",
      "\n",
      "W0125 00:43:32.578315 4580476352 deprecation.py:323] From /Users/henrypoole/anaconda3/envs/thesis-v2/lib/python3.6/site-packages/tensorflow/python/ops/nn_impl.py:180: add_dispatch_support.<locals>.wrapper (from tensorflow.python.ops.array_ops) is deprecated and will be removed in a future version.\n",
      "Instructions for updating:\n",
      "Use tf.where in 2.0, which has the same broadcast rule as np.where\n"
     ]
    },
    {
     "name": "stdout",
     "output_type": "stream",
     "text": [
      "_________________________________________________________________\n",
      "Layer (type)                 Output Shape              Param #   \n",
      "=================================================================\n",
      "dense_1 (Dense)              (None, 4)                 16        \n",
      "_________________________________________________________________\n",
      "dense_2 (Dense)              (None, 1)                 5         \n",
      "=================================================================\n",
      "Total params: 21\n",
      "Trainable params: 21\n",
      "Non-trainable params: 0\n",
      "_________________________________________________________________\n"
     ]
    }
   ],
   "source": [
    "N_HIDDEN = 4\n",
    "num_input_features = X_train.shape[1]\n",
    "model = keras.Sequential()\n",
    "model.add(keras.layers.Dense(N_HIDDEN, input_dim=num_input_features, activation='tanh'))\n",
    "model.add(keras.layers.Dense(1, activation='sigmoid'))\n",
    "model.compile(loss='binary_crossentropy', optimizer=keras.optimizers.Adam(), metrics=['accuracy', 'binary_accuracy'])\n",
    "model.summary()"
   ]
  },
  {
   "cell_type": "markdown",
   "metadata": {},
   "source": [
    "# Fit model"
   ]
  },
  {
   "cell_type": "code",
   "execution_count": 4,
   "metadata": {},
   "outputs": [
    {
     "name": "stderr",
     "output_type": "stream",
     "text": [
      "W0125 00:43:32.767235 4580476352 deprecation_wrapper.py:119] From /Users/henrypoole/anaconda3/envs/thesis-v2/lib/python3.6/site-packages/keras/backend/tensorflow_backend.py:986: The name tf.assign_add is deprecated. Please use tf.compat.v1.assign_add instead.\n",
      "\n"
     ]
    },
    {
     "name": "stdout",
     "output_type": "stream",
     "text": [
      "Train on 1989224 samples, validate on 224771 samples\n",
      "Epoch 1/20\n",
      "1989224/1989224 [==============================] - 129s 65us/step - loss: 0.4864 - acc: 0.7482 - binary_accuracy: 0.7482 - val_loss: 0.5033 - val_acc: 0.7385 - val_binary_accuracy: 0.7385\n",
      "Epoch 2/20\n",
      "1989224/1989224 [==============================] - 134s 67us/step - loss: 0.4826 - acc: 0.7484 - binary_accuracy: 0.7484 - val_loss: 0.5050 - val_acc: 0.7379 - val_binary_accuracy: 0.7379\n",
      "Epoch 3/20\n",
      "1989224/1989224 [==============================] - 135s 68us/step - loss: 0.4824 - acc: 0.7483 - binary_accuracy: 0.7483 - val_loss: 0.5034 - val_acc: 0.7366 - val_binary_accuracy: 0.7366\n",
      "Epoch 4/20\n",
      "1989224/1989224 [==============================] - 134s 67us/step - loss: 0.4822 - acc: 0.7484 - binary_accuracy: 0.7484 - val_loss: 0.5012 - val_acc: 0.7388 - val_binary_accuracy: 0.7388\n",
      "Epoch 5/20\n",
      "1989224/1989224 [==============================] - 147s 74us/step - loss: 0.4820 - acc: 0.7485 - binary_accuracy: 0.7485 - val_loss: 0.4989 - val_acc: 0.7393 - val_binary_accuracy: 0.7393\n",
      "Epoch 6/20\n",
      "1989224/1989224 [==============================] - 133s 67us/step - loss: 0.4818 - acc: 0.7485 - binary_accuracy: 0.7485 - val_loss: 0.5008 - val_acc: 0.7369 - val_binary_accuracy: 0.7369\n",
      "Epoch 7/20\n",
      "1989224/1989224 [==============================] - 132s 66us/step - loss: 0.4817 - acc: 0.7485 - binary_accuracy: 0.7485 - val_loss: 0.5003 - val_acc: 0.7383 - val_binary_accuracy: 0.7383\n",
      "Epoch 8/20\n",
      "1989224/1989224 [==============================] - 133s 67us/step - loss: 0.4817 - acc: 0.7485 - binary_accuracy: 0.7485 - val_loss: 0.5014 - val_acc: 0.7363 - val_binary_accuracy: 0.7363\n",
      "Epoch 9/20\n",
      "1989224/1989224 [==============================] - 132s 67us/step - loss: 0.4816 - acc: 0.7484 - binary_accuracy: 0.7484 - val_loss: 0.4988 - val_acc: 0.7383 - val_binary_accuracy: 0.7383\n",
      "Epoch 10/20\n",
      "1989224/1989224 [==============================] - 146s 73us/step - loss: 0.4816 - acc: 0.7484 - binary_accuracy: 0.7484 - val_loss: 0.4991 - val_acc: 0.7381 - val_binary_accuracy: 0.7381\n",
      "Epoch 11/20\n",
      "1989224/1989224 [==============================] - 148s 74us/step - loss: 0.4816 - acc: 0.7484 - binary_accuracy: 0.7484 - val_loss: 0.5010 - val_acc: 0.7360 - val_binary_accuracy: 0.7360\n",
      "Epoch 12/20\n",
      "1989224/1989224 [==============================] - 147s 74us/step - loss: 0.4815 - acc: 0.7484 - binary_accuracy: 0.7484 - val_loss: 0.5003 - val_acc: 0.7366 - val_binary_accuracy: 0.7366\n",
      "Epoch 13/20\n",
      "1989224/1989224 [==============================] - 147s 74us/step - loss: 0.4815 - acc: 0.7484 - binary_accuracy: 0.7484 - val_loss: 0.5004 - val_acc: 0.7362 - val_binary_accuracy: 0.7362\n",
      "Epoch 14/20\n",
      "1989224/1989224 [==============================] - 146s 74us/step - loss: 0.4815 - acc: 0.7484 - binary_accuracy: 0.7484 - val_loss: 0.4998 - val_acc: 0.7370 - val_binary_accuracy: 0.7370\n",
      "Epoch 15/20\n",
      "1989224/1989224 [==============================] - 147s 74us/step - loss: 0.4815 - acc: 0.7484 - binary_accuracy: 0.7484 - val_loss: 0.4994 - val_acc: 0.7372 - val_binary_accuracy: 0.7372\n",
      "Epoch 16/20\n",
      "1989224/1989224 [==============================] - 147s 74us/step - loss: 0.4815 - acc: 0.7484 - binary_accuracy: 0.7484 - val_loss: 0.4988 - val_acc: 0.7379 - val_binary_accuracy: 0.7379\n",
      "Epoch 17/20\n",
      "1989224/1989224 [==============================] - 146s 73us/step - loss: 0.4815 - acc: 0.7484 - binary_accuracy: 0.7484 - val_loss: 0.4992 - val_acc: 0.7391 - val_binary_accuracy: 0.7391\n",
      "Epoch 18/20\n",
      "1989224/1989224 [==============================] - 145s 73us/step - loss: 0.4815 - acc: 0.7484 - binary_accuracy: 0.7484 - val_loss: 0.4988 - val_acc: 0.7395 - val_binary_accuracy: 0.7395\n",
      "Epoch 19/20\n",
      "1989224/1989224 [==============================] - 146s 73us/step - loss: 0.4814 - acc: 0.7484 - binary_accuracy: 0.7484 - val_loss: 0.4992 - val_acc: 0.7374 - val_binary_accuracy: 0.7374\n",
      "Epoch 20/20\n",
      "1989224/1989224 [==============================] - 145s 73us/step - loss: 0.4814 - acc: 0.7483 - binary_accuracy: 0.7483 - val_loss: 0.4989 - val_acc: 0.7381 - val_binary_accuracy: 0.7381\n"
     ]
    }
   ],
   "source": [
    "model_fit = model.fit(x=X_train, y=Y_train, epochs=20, validation_data=(X_test_internal, Y_test_internal), batch_size=32)"
   ]
  },
  {
   "cell_type": "markdown",
   "metadata": {},
   "source": [
    "# Save model"
   ]
  },
  {
   "cell_type": "code",
   "execution_count": 5,
   "metadata": {},
   "outputs": [],
   "source": [
    "model_json = model.to_json()\n",
    "with open(\"base_nn_classification_model.json\", \"w\") as json_file:\n",
    "    json_file.write(model_json)\n",
    "# serialize weights to HDF5\n",
    "model.save_weights(\"base_nn_classification_model.h5\")"
   ]
  },
  {
   "cell_type": "markdown",
   "metadata": {},
   "source": [
    "# Plot training/validation loss"
   ]
  },
  {
   "cell_type": "code",
   "execution_count": 6,
   "metadata": {},
   "outputs": [
    {
     "data": {
      "image/png": "[encoded data removed]",
      "text/plain": [
       "<Figure size 720x360 with 1 Axes>"
      ]
     },
     "metadata": {
      "needs_background": "light"
     },
     "output_type": "display_data"
    }
   ],
   "source": [
    "plt.figure(figsize=(10, 5))\n",
    "plt.plot(model_fit.history['loss'])\n",
    "plt.plot(model_fit.history['val_loss'])\n",
    "plt.title('Neural Network Base Features Training Loss')\n",
    "plt.ylabel('Loss')\n",
    "plt.xlabel('Epoch')\n",
    "plt.legend(['Train', 'Validation'], loc='upper left')\n",
    "plt.show()"
   ]
  },
  {
   "cell_type": "markdown",
   "metadata": {},
   "source": [
    "# Make binary class and probabilistic predictions"
   ]
  },
  {
   "cell_type": "code",
   "execution_count": 7,
   "metadata": {},
   "outputs": [],
   "source": [
    "# Make probabilistic predictions\n",
    "Y_train_prob_pred = model.predict(X_train)[:, 0]\n",
    "Y_test_internal_prob_pred = model.predict(X_test_internal)[:, 0]\n",
    "Y_test_external_prob_pred = model.predict(X_test_external)[:, 0]\n",
    "\n",
    "# Convert to binary predictions\n",
    "Y_train_class_pred = np.where(Y_train_prob_pred <= 0.5, 0, 1)\n",
    "Y_test_internal_class_pred = np.where(Y_test_internal_prob_pred <= 0.5, 0, 1)\n",
    "Y_test_external_class_pred = np.where(Y_test_external_prob_pred <= 0.5, 0, 1)\n",
    "\n",
    "# Save predictions as .csv\n",
    "Y_train_pred = pd.DataFrame({'class_pred':Y_train_class_pred, 'prob_pred':Y_train_prob_pred})\n",
    "Y_train_pred.to_csv('./data/nn_train_predictions.csv', index=False)\n",
    "\n",
    "Y_test_internal_pred = pd.DataFrame({'class_pred':Y_test_internal_class_pred, 'prob_pred':Y_test_internal_prob_pred})\n",
    "Y_test_internal_pred.to_csv('./data/nn_test_internal_predictions.csv', index=False)\n",
    "\n",
    "Y_test_external_pred = pd.DataFrame({'class_pred':Y_test_external_class_pred, 'prob_pred':Y_test_external_prob_pred})\n",
    "Y_test_external_pred.to_csv('./data/nn_test_external_predictions.csv', index=False)"
   ]
  },
  {
   "cell_type": "markdown",
   "metadata": {},
   "source": [
    "# Evaluate Results"
   ]
  },
  {
   "cell_type": "code",
   "execution_count": 8,
   "metadata": {},
   "outputs": [],
   "source": [
    "# Classification reports\n",
    "train_classification_report = classification_report(Y_train, Y_train_class_pred, target_names=['Away Team Win', 'Home Team Win'], digits=4)\n",
    "test_internal_classification_report = classification_report(Y_test_internal, Y_test_internal_class_pred, target_names=['Away Team Win', 'Home Team Win'], digits=4)\n",
    "test_external_classification_report = classification_report(Y_test_external, Y_test_external_class_pred, target_names=['Away Team Win', 'Home Team Win'], digits=4)"
   ]
  },
  {
   "cell_type": "code",
   "execution_count": 9,
   "metadata": {},
   "outputs": [
    {
     "name": "stdout",
     "output_type": "stream",
     "text": [
      "               precision    recall  f1-score   support\n",
      "\n",
      "Away Team Win     0.7323    0.5661    0.6386    779434\n",
      "Home Team Win     0.7561    0.8666    0.8076   1209790\n",
      "\n",
      "     accuracy                         0.7489   1989224\n",
      "    macro avg     0.7442    0.7164    0.7231   1989224\n",
      " weighted avg     0.7468    0.7489    0.7414   1989224\n",
      "\n"
     ]
    }
   ],
   "source": [
    "print(train_classification_report)"
   ]
  },
  {
   "cell_type": "code",
   "execution_count": 10,
   "metadata": {},
   "outputs": [
    {
     "name": "stdout",
     "output_type": "stream",
     "text": [
      "               precision    recall  f1-score   support\n",
      "\n",
      "Away Team Win     0.7598    0.5727    0.6531     96760\n",
      "Home Team Win     0.7277    0.8632    0.7897    128011\n",
      "\n",
      "     accuracy                         0.7381    224771\n",
      "    macro avg     0.7438    0.7179    0.7214    224771\n",
      " weighted avg     0.7415    0.7381    0.7309    224771\n",
      "\n"
     ]
    }
   ],
   "source": [
    "print(test_internal_classification_report)"
   ]
  },
  {
   "cell_type": "code",
   "execution_count": 11,
   "metadata": {},
   "outputs": [
    {
     "name": "stdout",
     "output_type": "stream",
     "text": [
      "               precision    recall  f1-score   support\n",
      "\n",
      "Away Team Win     0.7528    0.5850    0.6584    104262\n",
      "Home Team Win     0.7108    0.8415    0.7707    126379\n",
      "\n",
      "     accuracy                         0.7256    230641\n",
      "    macro avg     0.7318    0.7133    0.7145    230641\n",
      " weighted avg     0.7298    0.7256    0.7199    230641\n",
      "\n"
     ]
    }
   ],
   "source": [
    "print(test_external_classification_report)"
   ]
  },
  {
   "cell_type": "code",
   "execution_count": 12,
   "metadata": {},
   "outputs": [],
   "source": [
    "# Calculate log loss\n",
    "train_log_loss = log_loss(Y_train, Y_train_prob_pred)\n",
    "test_internal_log_loss = log_loss(Y_test_internal, Y_test_internal_prob_pred)\n",
    "test_external_log_loss = log_loss(Y_test_external, Y_test_external_prob_pred)"
   ]
  },
  {
   "cell_type": "code",
   "execution_count": 13,
   "metadata": {},
   "outputs": [
    {
     "name": "stdout",
     "output_type": "stream",
     "text": [
      "0.48137628668758203\n"
     ]
    }
   ],
   "source": [
    "print(train_log_loss)"
   ]
  },
  {
   "cell_type": "code",
   "execution_count": 14,
   "metadata": {},
   "outputs": [
    {
     "name": "stdout",
     "output_type": "stream",
     "text": [
      "0.49887431391452086\n"
     ]
    }
   ],
   "source": [
    "print(test_internal_log_loss)"
   ]
  },
  {
   "cell_type": "code",
   "execution_count": 15,
   "metadata": {},
   "outputs": [
    {
     "name": "stdout",
     "output_type": "stream",
     "text": [
      "0.5043834833361469\n"
     ]
    }
   ],
   "source": [
    "print(test_external_log_loss)"
   ]
  },
  {
   "cell_type": "code",
   "execution_count": 16,
   "metadata": {},
   "outputs": [],
   "source": [
    "# Calculate area under ROC curve\n",
    "\n",
    "def plot_roc_curve(true, pred, title):\n",
    "    fpr, tpr, threshold = roc_curve(true, pred)\n",
    "    roc_auc = auc(fpr, tpr)\n",
    "    plt.title('{} ROC Curve'.format(title))\n",
    "    plt.plot(fpr, tpr, 'b', label = 'AUC = %0.4f' % roc_auc)\n",
    "    plt.legend(loc = 'lower right')\n",
    "    plt.plot([0, 1], [0, 1],'r--')\n",
    "    plt.xlim([0, 1])\n",
    "    plt.ylim([0, 1])\n",
    "    plt.ylabel('True Positive Rate')\n",
    "    plt.xlabel('False Positive Rate')\n",
    "    plt.show()"
   ]
  },
  {
   "cell_type": "code",
   "execution_count": 17,
   "metadata": {},
   "outputs": [
    {
     "data": {
      "image/png": "[encoded data removed]",
      "text/plain": [
       "<Figure size 432x288 with 1 Axes>"
      ]
     },
     "metadata": {
      "needs_background": "light"
     },
     "output_type": "display_data"
    }
   ],
   "source": [
    "plot_roc_curve(Y_train, Y_train_prob_pred, 'Neural Network: Training Set')"
   ]
  },
  {
   "cell_type": "code",
   "execution_count": 18,
   "metadata": {},
   "outputs": [
    {
     "data": {
      "image/png": "[encoded data removed]",
      "text/plain": [
       "<Figure size 432x288 with 1 Axes>"
      ]
     },
     "metadata": {
      "needs_background": "light"
     },
     "output_type": "display_data"
    }
   ],
   "source": [
    "plot_roc_curve(Y_test_internal, Y_test_internal_prob_pred, 'Neural Network: Internal Testing Set')"
   ]
  },
  {
   "cell_type": "code",
   "execution_count": 19,
   "metadata": {},
   "outputs": [
    {
     "data": {
      "image/png": "[encoded data removed]",
      "text/plain": [
       "<Figure size 432x288 with 1 Axes>"
      ]
     },
     "metadata": {
      "needs_background": "light"
     },
     "output_type": "display_data"
    }
   ],
   "source": [
    "plot_roc_curve(Y_test_external, Y_test_external_prob_pred, 'Neural Network: External Testing Set')"
   ]
  },
  {
   "cell_type": "code",
   "execution_count": null,
   "metadata": {},
   "outputs": [],
   "source": []
  }
 ],
 "metadata": {
  "kernelspec": {
   "display_name": "Python 3",
   "language": "python",
   "name": "python3"
  },
  "language_info": {
   "codemirror_mode": {
    "name": "ipython",
    "version": 3
   },
   "file_extension": ".py",
   "mimetype": "text/x-python",
   "name": "python",
   "nbconvert_exporter": "python",
   "pygments_lexer": "ipython3",
   "version": "3.6.8"
  }
 },
 "nbformat": 4,
 "nbformat_minor": 2
}
