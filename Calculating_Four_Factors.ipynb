{
 "cells": [
  {
   "cell_type": "code",
   "execution_count": 1,
   "metadata": {},
   "outputs": [],
   "source": [
    "import os\n",
    "import sys\n",
    "import time\n",
    "import math\n",
    "\n",
    "import numpy as np\n",
    "import pandas as pd\n",
    "pd.set_option('display.max_columns', 500)"
   ]
  },
  {
   "cell_type": "markdown",
   "metadata": {},
   "source": [
    "### Load data"
   ]
  },
  {
   "cell_type": "code",
   "execution_count": 2,
   "metadata": {},
   "outputs": [
    {
     "name": "stdout",
     "output_type": "stream",
     "text": [
      "Loaded data in 10.854057530562082 minutes\n"
     ]
    }
   ],
   "source": [
    "start = time.time()\n",
    "seasons_df_list = []\n",
    "# Loop through season starting years 2002-2016\n",
    "for season_start_year in range(2002, 2017):\n",
    "    season_end_year = season_start_year + 1\n",
    "    file_name = \"{}-{}.csv\".format(season_start_year, season_end_year)\n",
    "    file_path = os.path.join(\n",
    "        os.path.abspath(\"./data\"),\n",
    "        file_name\n",
    "    )\n",
    "    season_df = pd.read_csv(file_path)\n",
    "    # Add season number to df, season number equal to season start year\n",
    "    season_df['SEASON_START_YEAR'] = season_start_year\n",
    "    # Add unique game ID string\n",
    "    season_df['GAME_ID'] = season_df.GAME_NUM.apply(lambda x: \"{}_{}\".format(season_start_year, x))\n",
    "    seasons_df_list.append(season_df)\n",
    "    \n",
    "seasons_df = pd.concat(seasons_df_list)\n",
    "end = time.time()\n",
    "print(\"Loaded data in {} minutes\".format((end - start) / 60.))"
   ]
  },
  {
   "cell_type": "markdown",
   "metadata": {},
   "source": [
    "### Add final score difference data\n",
    "\n",
    "Adding a final score difference outcome variable to the event data in addition to pre-existing binary win/loss outcome variable. Positive in favor of home team, negative in favor of away team."
   ]
  },
  {
   "cell_type": "code",
   "execution_count": 3,
   "metadata": {},
   "outputs": [],
   "source": [
    "# Group by game\n",
    "grouped_by_game = seasons_df.groupby('GAME_ID')\n",
    "\n",
    "# Get final events from each game\n",
    "final_events = grouped_by_game.tail(1)\n",
    "\n",
    "# Get final scores\n",
    "final_scores = final_events[['GAME_ID', 'HT_SCORE_DIFF']]\n",
    "final_scores.columns = ['GAME_ID', 'OUTCOME_HT_SCORE_DIFF']\n",
    "\n",
    "# Left join seasons_df and final_scores on GAME_ID\n",
    "seasons_df = seasons_df.merge(final_scores, on = \"GAME_ID\", how = \"left\")"
   ]
  },
  {
   "cell_type": "markdown",
   "metadata": {},
   "source": [
    "### Split Dataframe\n",
    "\n",
    "Split seasons into two groups:\n",
    "1.) Training and (internal) testing seasons; 2002-2003 through 2013-2014 seasons\n",
    "2.) (External) testing/evaluation seasons; 2014-2015 through 2016-2017 seasons"
   ]
  },
  {
   "cell_type": "code",
   "execution_count": 4,
   "metadata": {},
   "outputs": [],
   "source": [
    "# Create flags for seasons in event data\n",
    "internal_seasons = np.arange(2002, 2014)\n",
    "external_seasons = np.arange(2014, 2017)\n",
    "seasons_array = seasons_df.SEASON_START_YEAR.values\n",
    "internal_flag = np.isin(seasons_array, internal_seasons)\n",
    "external_flag = np.isin(seasons_array, external_seasons)\n",
    "\n",
    "# Split into internal and external groups\n",
    "internal_seasons_df = seasons_df.loc[internal_flag, ]\n",
    "external_seasons_df = seasons_df.loc[external_flag, ]"
   ]
  },
  {
   "cell_type": "markdown",
   "metadata": {},
   "source": [
    "# TO DO"
   ]
  },
  {
   "cell_type": "markdown",
   "metadata": {},
   "source": [
    "### Create Train/Test/Evaluation sets in internal seasons\n",
    "\n",
    "80/15/5 train/test/evlaution split by game\n",
    "\n",
    "NOTE: Make sure splits are in random game order\n",
    "NOTE: Make sure final arrays have right type"
   ]
  },
  {
   "cell_type": "code",
   "execution_count": null,
   "metadata": {},
   "outputs": [],
   "source": [
    "# Count unique games in internal set\n",
    "internal_games = internal_seasons_df.GAME_ID.unique()\n",
    "num_internal_games = len(internal_games)\n",
    "\n",
    "# Create random state and sample without replacement \n",
    "random_state = np.random.RandomState(seed = 42)\n",
    "internal_games_sample = random_state.choice(internal_games, size = num_internal_games, replace = False)\n",
    "\n",
    "# calculate train/test/eval split sizes\n",
    "num_train_games = math.ceil(num_internal_games * .80)\n",
    "num_test_games = math.ceil(num_internal_games * .15)\n",
    "num_eval_games = math.floor(num_internal_games * .05)\n",
    "\n",
    "# Define splits on random sample\n",
    "internal_games_train = internal_games_sample[:num_train_games]\n",
    "internal_games_test = internal_games_sample[num_train_games:(num_train_games + num_test_games)]\n",
    "internal_games_eval = internal_games_sample[(num_train_games + num_test_games):]\n",
    "\n",
    "# Check to see splits are distinct\n",
    "np.intersect1d(internal_games_train, internal_games_test)\n",
    "np.intersect1d(internal_games_train, internal_games_eval)\n",
    "np.intersect1d(internal_games_test, internal_games_eval)\n",
    "\n",
    "# Create flags for splits by game in event data \n",
    "internal_games_array = internal_seasons_df.GAME_ID.values\n",
    "internal_train_flag = np.isin(internal_games_array, internal_games_train)\n",
    "internal_test_flag = np.isin(internal_games_array, internal_games_test)\n",
    "internal_eval_flag = np.isin(internal_games_array, internal_games_eval)\n",
    "\n",
    "# Subset internal seasons df by train/test/eval splits \n",
    "train = internal_seasons_df.loc[internal_train_flag, ].as_matrix().astype(np.float32)\n",
    "test_internal = internal_seasons_df.loc[internal_test_flag, ].as_matrix().astype(np.float32)\n",
    "eval_internal = internal_seasons_df.loc[internal_eval_flag, ].as_matrix().astype(np.float32)"
   ]
  },
  {
   "cell_type": "markdown",
   "metadata": {},
   "source": [
    "### Create Test set from external seasons\n",
    "\n",
    "TODO: Make sure test set is in random game order\n"
   ]
  },
  {
   "cell_type": "code",
   "execution_count": null,
   "metadata": {},
   "outputs": [],
   "source": [
    "external_games = external_seasons_df.GAME_ID.unique()\n",
    "num_external_games = len(external_games)\n",
    "external_games_sample = random_state.choice(external_games, size = num_external_games, replace = False)\n",
    "train.head()"
   ]
  },
  {
   "cell_type": "markdown",
   "metadata": {},
   "source": [
    "### Split train/test/eval sets into X and Y\n",
    "\n",
    "NOTE: Original and Scaled X's\n",
    "NOTE: Binary Y's and Continuous Y's"
   ]
  },
  {
   "cell_type": "markdown",
   "metadata": {},
   "source": [
    "### Save arrays to numpy archive"
   ]
  }
 ],
 "metadata": {
  "kernelspec": {
   "display_name": "Python 3",
   "language": "python",
   "name": "python3"
  },
  "language_info": {
   "codemirror_mode": {
    "name": "ipython",
    "version": 3
   },
   "file_extension": ".py",
   "mimetype": "text/x-python",
   "name": "python",
   "nbconvert_exporter": "python",
   "pygments_lexer": "ipython3",
   "version": "3.6.8"
  }
 },
 "nbformat": 4,
 "nbformat_minor": 2
}
