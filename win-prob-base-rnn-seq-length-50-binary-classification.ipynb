{
 "cells": [
  {
   "cell_type": "markdown",
   "metadata": {},
   "source": [
    "# Imports"
   ]
  },
  {
   "cell_type": "code",
   "execution_count": 2,
   "metadata": {},
   "outputs": [
    {
     "name": "stderr",
     "output_type": "stream",
     "text": [
      "Using TensorFlow backend.\n"
     ]
    }
   ],
   "source": [
    "import keras\n",
    "import mdn\n",
    "from scipy.stats import norm\n",
    "from sklearn.metrics import classification_report\n",
    "from sklearn.metrics import log_loss\n",
    "from sklearn.metrics import roc_curve\n",
    "from sklearn.metrics import auc\n",
    "from sklearn.metrics import roc_auc_score\n",
    "import pandas as pd\n",
    "import numpy as np\n",
    "import matplotlib.pyplot as plt\n",
    "%matplotlib inline"
   ]
  },
  {
   "cell_type": "markdown",
   "metadata": {},
   "source": [
    "# Load data"
   ]
  },
  {
   "cell_type": "code",
   "execution_count": 2,
   "metadata": {},
   "outputs": [],
   "source": [
    "X_train = pd.read_csv('./data/X_train_normal.csv', usecols=['GAME_ID', 'GAME_TIME', 'HT_SCORE_DIFF','HT_POSS'])\n",
    "X_test_internal = pd.read_csv('./data/X_test_internal_normal.csv', usecols=['GAME_ID', 'GAME_TIME', 'HT_SCORE_DIFF','HT_POSS'])\n",
    "X_test_external = pd.read_csv('./data/X_test_external_normal.csv', usecols=['GAME_ID', 'GAME_TIME', 'HT_SCORE_DIFF','HT_POSS'])\n",
    "Y_train = pd.read_csv('./data/Y_train_binary.csv')\n",
    "Y_test_internal = pd.read_csv('./data/Y_test_internal_binary.csv')\n",
    "Y_test_external = pd.read_csv('./data/Y_test_external_binary.csv')\n",
    "train = pd.concat([X_train, Y_train], axis=1)\n",
    "test_internal = pd.concat([X_test_internal, Y_test_internal], axis=1)\n",
    "test_external = pd.concat([X_test_external, Y_test_external], axis=1)"
   ]
  },
  {
   "cell_type": "markdown",
   "metadata": {},
   "source": [
    "# Define custom data generator for sequential data"
   ]
  },
  {
   "cell_type": "code",
   "execution_count": 3,
   "metadata": {},
   "outputs": [],
   "source": [
    "# Define custom generator class for sequential data\n",
    "# https://stackoverflow.com/questions/55116638/use-keras-timeseriesgenerator-function-to-generate-squence-group-by-some-id\n",
    "# https://stanford.edu/~shervine/blog/keras-how-to-generate-data-on-the-fly\n",
    "class DataGenerator(keras.utils.Sequence):\n",
    "    #'Generates data for Keras'\n",
    "    def __init__(self, data, length, batch_size=32):\n",
    "        self.tgs = list()\n",
    "        unique_game_ids = data['GAME_ID'].unique().tolist()\n",
    "        for game_id in unique_game_ids:\n",
    "            game_data = data[data['GAME_ID'] == game_id]\n",
    "            final_score = game_data['OUTCOME'].values[0]\n",
    "            # pad length - 1 zero rows to head game df\n",
    "            zero_pad_game_id_df = pd.DataFrame(data=np.full((length-1, 1), game_id), columns=['GAME_ID'])\n",
    "            zero_pad_zeros_df = pd.DataFrame(data=np.full((length-1, 3), 0), columns=['GAME_TIME', 'HT_SCORE_DIFF', 'HT_POSS'])\n",
    "            zero_pad_final_score_df = pd.DataFrame(data=np.full((length-1, 1), final_score), columns=['OUTCOME'])\n",
    "            zero_df = pd.concat([zero_pad_game_id_df, zero_pad_zeros_df, zero_pad_final_score_df], axis=1, sort=False)\n",
    "            # pad extra tail row to game df\n",
    "            game_tail = game_data.tail(1)\n",
    "            zero_padded_game_data = pd.concat([zero_df, game_data, game_tail], sort=False)\n",
    "            self.tgs.append(keras.preprocessing.sequence.TimeseriesGenerator(zero_padded_game_data[['GAME_TIME', 'HT_SCORE_DIFF', 'HT_POSS']].values, zero_padded_game_data['OUTCOME'].values, length, batch_size=batch_size))\n",
    "            \n",
    "        self.len = sum([len(tg) for tg in self.tgs])\n",
    "        self.idx_i = list()\n",
    "        self.idx_j = list()\n",
    "        \n",
    "        for i, tg in enumerate(self.tgs):\n",
    "            self.idx_i.extend(list(range(len(tg))))\n",
    "            self.idx_j.extend([i] * len(tg))\n",
    "            \n",
    "    def __len__(self):\n",
    "        return self.len\n",
    "    \n",
    "    def __getitem__(self, index):\n",
    "        return self.tgs[self.idx_j[index]][self.idx_i[index]]"
   ]
  },
  {
   "cell_type": "markdown",
   "metadata": {},
   "source": [
    "# Create sequential data for model fitting"
   ]
  },
  {
   "cell_type": "code",
   "execution_count": 4,
   "metadata": {},
   "outputs": [],
   "source": [
    "SEQ_LENGTH = 50\n",
    "BATCH_SIZE = 32\n",
    "train_gen = DataGenerator(train, SEQ_LENGTH, BATCH_SIZE)\n",
    "test_internal_gen = DataGenerator(test_internal, SEQ_LENGTH, BATCH_SIZE)\n",
    "test_external_gen = DataGenerator(test_external, SEQ_LENGTH, BATCH_SIZE)"
   ]
  },
  {
   "cell_type": "code",
   "execution_count": 5,
   "metadata": {},
   "outputs": [
    {
     "name": "stdout",
     "output_type": "stream",
     "text": [
      "(32, 50, 3)\n"
     ]
    }
   ],
   "source": [
    "print(train_gen[0][0].shape)"
   ]
  },
  {
   "cell_type": "markdown",
   "metadata": {},
   "source": [
    "# Define neural network architecture"
   ]
  },
  {
   "cell_type": "code",
   "execution_count": 6,
   "metadata": {},
   "outputs": [
    {
     "name": "stderr",
     "output_type": "stream",
     "text": [
      "WARNING: Logging before flag parsing goes to stderr.\n",
      "W0116 10:35:12.136530 4576601536 deprecation_wrapper.py:119] From /Users/henrypoole/anaconda3/envs/thesis-v2/lib/python3.6/site-packages/keras/backend/tensorflow_backend.py:74: The name tf.get_default_graph is deprecated. Please use tf.compat.v1.get_default_graph instead.\n",
      "\n",
      "W0116 10:35:12.163866 4576601536 deprecation_wrapper.py:119] From /Users/henrypoole/anaconda3/envs/thesis-v2/lib/python3.6/site-packages/keras/backend/tensorflow_backend.py:517: The name tf.placeholder is deprecated. Please use tf.compat.v1.placeholder instead.\n",
      "\n",
      "W0116 10:35:12.166172 4576601536 deprecation_wrapper.py:119] From /Users/henrypoole/anaconda3/envs/thesis-v2/lib/python3.6/site-packages/keras/backend/tensorflow_backend.py:4138: The name tf.random_uniform is deprecated. Please use tf.random.uniform instead.\n",
      "\n",
      "W0116 10:35:12.257776 4576601536 deprecation_wrapper.py:119] From /Users/henrypoole/anaconda3/envs/thesis-v2/lib/python3.6/site-packages/keras/optimizers.py:790: The name tf.train.Optimizer is deprecated. Please use tf.compat.v1.train.Optimizer instead.\n",
      "\n",
      "W0116 10:35:12.262294 4576601536 deprecation_wrapper.py:119] From /Users/henrypoole/anaconda3/envs/thesis-v2/lib/python3.6/site-packages/keras/backend/tensorflow_backend.py:3376: The name tf.log is deprecated. Please use tf.math.log instead.\n",
      "\n",
      "W0116 10:35:12.266217 4576601536 deprecation.py:323] From /Users/henrypoole/anaconda3/envs/thesis-v2/lib/python3.6/site-packages/tensorflow/python/ops/nn_impl.py:180: add_dispatch_support.<locals>.wrapper (from tensorflow.python.ops.array_ops) is deprecated and will be removed in a future version.\n",
      "Instructions for updating:\n",
      "Use tf.where in 2.0, which has the same broadcast rule as np.where\n"
     ]
    },
    {
     "name": "stdout",
     "output_type": "stream",
     "text": [
      "_________________________________________________________________\n",
      "Layer (type)                 Output Shape              Param #   \n",
      "=================================================================\n",
      "simple_rnn_1 (SimpleRNN)     (None, 4)                 32        \n",
      "_________________________________________________________________\n",
      "dense_1 (Dense)              (None, 1)                 5         \n",
      "=================================================================\n",
      "Total params: 37\n",
      "Trainable params: 37\n",
      "Non-trainable params: 0\n",
      "_________________________________________________________________\n"
     ]
    }
   ],
   "source": [
    "N_HIDDEN = 4\n",
    "num_input_features = train_gen[0][0].shape[2]\n",
    "model = keras.Sequential()\n",
    "model.add(keras.layers.SimpleRNN(units=N_HIDDEN, input_shape=(SEQ_LENGTH, num_input_features), activation='tanh'))\n",
    "model.add(keras.layers.Dense(1, activation='sigmoid'))\n",
    "model.compile(loss='binary_crossentropy', optimizer=keras.optimizers.Adam(), metrics=['accuracy', 'binary_accuracy'])\n",
    "model.summary()"
   ]
  },
  {
   "cell_type": "markdown",
   "metadata": {},
   "source": [
    "# Fit model"
   ]
  },
  {
   "cell_type": "code",
   "execution_count": 7,
   "metadata": {},
   "outputs": [
    {
     "name": "stderr",
     "output_type": "stream",
     "text": [
      "W0116 10:35:12.489551 4576601536 deprecation_wrapper.py:119] From /Users/henrypoole/anaconda3/envs/thesis-v2/lib/python3.6/site-packages/keras/backend/tensorflow_backend.py:986: The name tf.assign_add is deprecated. Please use tf.compat.v1.assign_add instead.\n",
      "\n"
     ]
    },
    {
     "name": "stdout",
     "output_type": "stream",
     "text": [
      "Epoch 1/5\n",
      "64308/64308 [==============================] - 1506s 23ms/step - loss: 0.4800 - acc: 0.7536 - binary_accuracy: 0.7536 - val_loss: 0.5116 - val_acc: 0.7351 - val_binary_accuracy: 0.7351\n",
      "Epoch 2/5\n",
      "64308/64308 [==============================] - 1571s 24ms/step - loss: 0.4722 - acc: 0.7550 - binary_accuracy: 0.7550 - val_loss: 0.5004 - val_acc: 0.7388 - val_binary_accuracy: 0.7388\n",
      "Epoch 3/5\n",
      "64308/64308 [==============================] - 1631s 25ms/step - loss: 0.4714 - acc: 0.7551 - binary_accuracy: 0.7551 - val_loss: 0.5129 - val_acc: 0.7330 - val_binary_accuracy: 0.7330\n",
      "Epoch 4/5\n",
      "64308/64308 [==============================] - 1569s 24ms/step - loss: 0.4714 - acc: 0.7547 - binary_accuracy: 0.7547 - val_loss: 0.4994 - val_acc: 0.7388 - val_binary_accuracy: 0.7388\n",
      "Epoch 5/5\n",
      "64308/64308 [==============================] - 3724s 58ms/step - loss: 0.4708 - acc: 0.7554 - binary_accuracy: 0.7554 - val_loss: 0.5115 - val_acc: 0.7299 - val_binary_accuracy: 0.7299\n"
     ]
    }
   ],
   "source": [
    "model_fit = model.fit_generator(generator=train_gen, validation_data=test_internal_gen, epochs=5)"
   ]
  },
  {
   "cell_type": "markdown",
   "metadata": {},
   "source": [
    "# Save model"
   ]
  },
  {
   "cell_type": "code",
   "execution_count": 8,
   "metadata": {},
   "outputs": [],
   "source": [
    "model_json = model.to_json()\n",
    "with open(\"base_rnn_seq_length_{}_classification_model.json\".format(SEQ_LENGTH), \"w\") as json_file:\n",
    "    json_file.write(model_json)\n",
    "# serialize weights to HDF5\n",
    "model.save_weights(\"base_rnn_seq_length_{}_classification_model.h5\".format(SEQ_LENGTH))"
   ]
  },
  {
   "cell_type": "markdown",
   "metadata": {},
   "source": [
    "# Plot training/validation loss"
   ]
  },
  {
   "cell_type": "code",
   "execution_count": 9,
   "metadata": {},
   "outputs": [
    {
     "data": {
      "image/png": "[encoded data removed]",
      "text/plain": [
       "<Figure size 720x360 with 1 Axes>"
      ]
     },
     "metadata": {
      "needs_background": "light"
     },
     "output_type": "display_data"
    }
   ],
   "source": [
    "plt.figure(figsize=(10, 5))\n",
    "plt.plot(model_fit.history['loss'])\n",
    "plt.plot(model_fit.history['val_loss'])\n",
    "plt.title('Recurrent Neural Network Seq Length {} Base Features Training Loss'.format(SEQ_LENGTH))\n",
    "plt.ylabel('Loss')\n",
    "plt.xlabel('Epoch')\n",
    "plt.legend(['Train', 'Validation'], loc='upper left')\n",
    "plt.show()"
   ]
  },
  {
   "cell_type": "markdown",
   "metadata": {},
   "source": [
    "# Make binary class and probabilistic predictions"
   ]
  },
  {
   "cell_type": "code",
   "execution_count": 10,
   "metadata": {},
   "outputs": [],
   "source": [
    "# Make probabilistic predictions\n",
    "Y_train_prob_pred = model.predict_generator(train_gen)[:, 0]\n",
    "Y_test_internal_prob_pred = model.predict_generator(test_internal_gen)[:, 0]\n",
    "Y_test_external_prob_pred = model.predict_generator(test_external_gen)[:, 0]\n",
    "\n",
    "# Convert to binary predictions\n",
    "Y_train_class_pred = np.where(Y_train_prob_pred <= 0.5, 0, 1)\n",
    "Y_test_internal_class_pred = np.where(Y_test_internal_prob_pred <= 0.5, 0, 1)\n",
    "Y_test_external_class_pred = np.where(Y_test_external_prob_pred <= 0.5, 0, 1)\n",
    "\n",
    "# Save predictions as .csv\n",
    "Y_train_pred = pd.DataFrame({'class_pred':Y_train_class_pred, 'prob_pred':Y_train_prob_pred})\n",
    "Y_train_pred.to_csv('./data/base_rnn_seq_length_{}_train_predictions.csv'.format(SEQ_LENGTH), index=False)\n",
    "\n",
    "Y_test_internal_pred = pd.DataFrame({'class_pred':Y_test_internal_class_pred, 'prob_pred':Y_test_internal_prob_pred})\n",
    "Y_test_internal_pred.to_csv('./data/base_rnn_seq_length_{}_test_internal_predictions.csv'.format(SEQ_LENGTH), index=False)\n",
    "\n",
    "Y_test_external_pred = pd.DataFrame({'class_pred':Y_test_external_class_pred, 'prob_pred':Y_test_external_prob_pred})\n",
    "Y_test_external_pred.to_csv('./data/base_rnn_seq_length_{}_test_external_predictions.csv'.format(SEQ_LENGTH), index=False)"
   ]
  },
  {
   "cell_type": "code",
   "execution_count": 11,
   "metadata": {},
   "outputs": [
    {
     "name": "stdout",
     "output_type": "stream",
     "text": [
      "[0.62987125 0.6333366  0.632997   ... 0.99419636 0.99419606 0.99419606]\n"
     ]
    }
   ],
   "source": [
    "print(Y_train_prob_pred)"
   ]
  },
  {
   "cell_type": "markdown",
   "metadata": {},
   "source": [
    "# Evaluate Results"
   ]
  },
  {
   "cell_type": "code",
   "execution_count": 4,
   "metadata": {},
   "outputs": [],
   "source": [
    "# Reload predictions and original labels\n",
    "Y_train_pred = pd.read_csv('./data/base_rnn_seq_length_50_train_predictions.csv')\n",
    "Y_test_internal_pred = pd.read_csv('./data/base_rnn_seq_length_50_test_internal_predictions.csv')\n",
    "Y_test_external_pred = pd.read_csv('./data/base_rnn_seq_length_50_test_external_predictions.csv')\n",
    "Y_train_prob_pred = Y_train_pred['prob_pred']\n",
    "Y_train_class_pred = Y_train_pred['class_pred']\n",
    "Y_test_internal_prob_pred = Y_test_internal_pred['prob_pred']\n",
    "Y_test_internal_class_pred = Y_test_internal_pred['class_pred']\n",
    "Y_test_external_prob_pred = Y_test_external_pred['prob_pred']\n",
    "Y_test_external_class_pred = Y_test_external_pred['class_pred']\n",
    "Y_train = pd.read_csv('./data/Y_train_binary.csv')\n",
    "Y_test_internal = pd.read_csv('./data/Y_test_internal_binary.csv')\n",
    "Y_test_external = pd.read_csv('./data/Y_test_external_binary.csv')"
   ]
  },
  {
   "cell_type": "code",
   "execution_count": 5,
   "metadata": {},
   "outputs": [],
   "source": [
    "# Classification reports\n",
    "train_classification_report = classification_report(Y_train, Y_train_class_pred, target_names=['Away Team Win', 'Home Team Win'], digits=4)\n",
    "test_internal_classification_report = classification_report(Y_test_internal, Y_test_internal_class_pred, target_names=['Away Team Win', 'Home Team Win'], digits=4)\n",
    "test_external_classification_report = classification_report(Y_test_external, Y_test_external_class_pred, target_names=['Away Team Win', 'Home Team Win'], digits=4)"
   ]
  },
  {
   "cell_type": "code",
   "execution_count": 6,
   "metadata": {},
   "outputs": [
    {
     "name": "stdout",
     "output_type": "stream",
     "text": [
      "               precision    recall  f1-score   support\n",
      "\n",
      "Away Team Win     0.7785    0.4839    0.5968    779434\n",
      "Home Team Win     0.7327    0.9113    0.8123   1209790\n",
      "\n",
      "     accuracy                         0.7438   1989224\n",
      "    macro avg     0.7556    0.6976    0.7046   1989224\n",
      " weighted avg     0.7506    0.7438    0.7279   1989224\n",
      "\n"
     ]
    }
   ],
   "source": [
    "print(train_classification_report)"
   ]
  },
  {
   "cell_type": "code",
   "execution_count": 7,
   "metadata": {},
   "outputs": [
    {
     "name": "stdout",
     "output_type": "stream",
     "text": [
      "               precision    recall  f1-score   support\n",
      "\n",
      "Away Team Win     0.8005    0.4961    0.6126     96760\n",
      "Home Team Win     0.7042    0.9066    0.7926    128011\n",
      "\n",
      "     accuracy                         0.7299    224771\n",
      "    macro avg     0.7523    0.7013    0.7026    224771\n",
      " weighted avg     0.7456    0.7299    0.7151    224771\n",
      "\n"
     ]
    }
   ],
   "source": [
    "print(test_internal_classification_report)"
   ]
  },
  {
   "cell_type": "code",
   "execution_count": 8,
   "metadata": {},
   "outputs": [
    {
     "name": "stdout",
     "output_type": "stream",
     "text": [
      "               precision    recall  f1-score   support\n",
      "\n",
      "Away Team Win     0.7921    0.5058    0.6174    104262\n",
      "Home Team Win     0.6859    0.8905    0.7749    126379\n",
      "\n",
      "     accuracy                         0.7166    230641\n",
      "    macro avg     0.7390    0.6981    0.6961    230641\n",
      " weighted avg     0.7339    0.7166    0.7037    230641\n",
      "\n"
     ]
    }
   ],
   "source": [
    "print(test_external_classification_report)"
   ]
  },
  {
   "cell_type": "code",
   "execution_count": 9,
   "metadata": {},
   "outputs": [],
   "source": [
    "# Calculate log loss\n",
    "train_log_loss = log_loss(Y_train, Y_train_prob_pred)\n",
    "test_internal_log_loss = log_loss(Y_test_internal, Y_test_internal_prob_pred)\n",
    "test_external_log_loss = log_loss(Y_test_external, Y_test_external_prob_pred)"
   ]
  },
  {
   "cell_type": "code",
   "execution_count": 10,
   "metadata": {},
   "outputs": [
    {
     "name": "stdout",
     "output_type": "stream",
     "text": [
      "0.4877640405882194\n"
     ]
    }
   ],
   "source": [
    "print(train_log_loss)"
   ]
  },
  {
   "cell_type": "code",
   "execution_count": 11,
   "metadata": {},
   "outputs": [
    {
     "name": "stdout",
     "output_type": "stream",
     "text": [
      "0.5115490252078894\n"
     ]
    }
   ],
   "source": [
    "print(test_internal_log_loss)"
   ]
  },
  {
   "cell_type": "code",
   "execution_count": 12,
   "metadata": {},
   "outputs": [
    {
     "name": "stdout",
     "output_type": "stream",
     "text": [
      "0.5173615175768851\n"
     ]
    }
   ],
   "source": [
    "print(test_external_log_loss)"
   ]
  },
  {
   "cell_type": "code",
   "execution_count": 15,
   "metadata": {},
   "outputs": [],
   "source": [
    "# Calculate area under ROC curve\n",
    "\n",
    "def plot_roc_curve(true, pred, title):\n",
    "    fpr, tpr, threshold = roc_curve(true, pred)\n",
    "    roc_auc = auc(fpr, tpr)\n",
    "    plt.title('{} ROC Curve'.format(title))\n",
    "    plt.plot(fpr, tpr, 'b', label = 'AUC = %0.4f' % roc_auc)\n",
    "    plt.legend(loc = 'lower right')\n",
    "    plt.plot([0, 1], [0, 1],'r--')\n",
    "    plt.xlim([0, 1])\n",
    "    plt.ylim([0, 1])\n",
    "    plt.ylabel('True Positive Rate')\n",
    "    plt.xlabel('False Positive Rate')\n",
    "    plt.show()"
   ]
  },
  {
   "cell_type": "code",
   "execution_count": 16,
   "metadata": {},
   "outputs": [
    {
     "data": {
      "image/png": "[encoded data removed]",
      "text/plain": [
       "<Figure size 432x288 with 1 Axes>"
      ]
     },
     "metadata": {
      "needs_background": "light"
     },
     "output_type": "display_data"
    }
   ],
   "source": [
    "plot_roc_curve(Y_train, Y_train_prob_pred, 'Recurrent Neural Network Seq Length 50: Training Set')"
   ]
  },
  {
   "cell_type": "code",
   "execution_count": 17,
   "metadata": {},
   "outputs": [
    {
     "data": {
      "image/png": "[encoded data removed]",
      "text/plain": [
       "<Figure size 432x288 with 1 Axes>"
      ]
     },
     "metadata": {
      "needs_background": "light"
     },
     "output_type": "display_data"
    }
   ],
   "source": [
    "plot_roc_curve(Y_test_internal, Y_test_internal_prob_pred, 'Recurrent Neural Network Seq Length 50: Internal Testing Set')"
   ]
  },
  {
   "cell_type": "code",
   "execution_count": 18,
   "metadata": {},
   "outputs": [
    {
     "data": {
      "image/png": "[encoded data removed]",
      "text/plain": [
       "<Figure size 432x288 with 1 Axes>"
      ]
     },
     "metadata": {
      "needs_background": "light"
     },
     "output_type": "display_data"
    }
   ],
   "source": [
    "plot_roc_curve(Y_test_external, Y_test_external_prob_pred, 'Recurrent Neural Network Seq Length 50: External Testing Set')"
   ]
  },
  {
   "cell_type": "code",
   "execution_count": null,
   "metadata": {},
   "outputs": [],
   "source": []
  }
 ],
 "metadata": {
  "kernelspec": {
   "display_name": "Python 3",
   "language": "python",
   "name": "python3"
  },
  "language_info": {
   "codemirror_mode": {
    "name": "ipython",
    "version": 3
   },
   "file_extension": ".py",
   "mimetype": "text/x-python",
   "name": "python",
   "nbconvert_exporter": "python",
   "pygments_lexer": "ipython3",
   "version": "3.6.8"
  }
 },
 "nbformat": 4,
 "nbformat_minor": 2
}
