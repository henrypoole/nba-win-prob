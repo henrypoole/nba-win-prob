{
 "cells": [
  {
   "cell_type": "markdown",
   "metadata": {},
   "source": [
    "# Imports"
   ]
  },
  {
   "cell_type": "code",
   "execution_count": 1,
   "metadata": {},
   "outputs": [
    {
     "name": "stderr",
     "output_type": "stream",
     "text": [
      "Using TensorFlow backend.\n"
     ]
    }
   ],
   "source": [
    "import keras\n",
    "import mdn\n",
    "from scipy.stats import norm\n",
    "from sklearn.metrics import classification_report\n",
    "from sklearn.metrics import log_loss\n",
    "from sklearn.metrics import roc_curve\n",
    "from sklearn.metrics import auc\n",
    "from sklearn.metrics import roc_auc_score\n",
    "import pandas as pd\n",
    "import numpy as np\n",
    "import matplotlib.pyplot as plt\n",
    "%matplotlib inline"
   ]
  },
  {
   "cell_type": "markdown",
   "metadata": {},
   "source": [
    "# Load data"
   ]
  },
  {
   "cell_type": "code",
   "execution_count": 2,
   "metadata": {},
   "outputs": [],
   "source": [
    "X_train = pd.read_csv('./data/X_train_normal.csv', usecols=['GAME_ID', 'GAME_TIME', 'HT_SCORE_DIFF','HT_POSS'])\n",
    "X_test_internal = pd.read_csv('./data/X_test_internal_normal.csv', usecols=['GAME_ID', 'GAME_TIME', 'HT_SCORE_DIFF','HT_POSS'])\n",
    "X_test_external = pd.read_csv('./data/X_test_external_normal.csv', usecols=['GAME_ID', 'GAME_TIME', 'HT_SCORE_DIFF','HT_POSS'])\n",
    "Y_train = pd.read_csv('./data/Y_train_binary.csv')\n",
    "Y_test_internal = pd.read_csv('./data/Y_test_internal_binary.csv')\n",
    "Y_test_external = pd.read_csv('./data/Y_test_external_binary.csv')\n",
    "Y_train_continuous = pd.read_csv('./data/Y_train_continuous.csv')\n",
    "Y_test_internal_continuous = pd.read_csv('./data/Y_test_internal_continuous.csv')\n",
    "Y_test_external_continuous = pd.read_csv('./data/Y_test_external_continuous.csv')\n",
    "train = pd.concat([X_train, Y_train_continuous], axis=1)\n",
    "test_internal = pd.concat([X_test_internal, Y_test_internal_continuous], axis=1)\n",
    "test_external = pd.concat([X_test_external, Y_test_external_continuous], axis=1)"
   ]
  },
  {
   "cell_type": "markdown",
   "metadata": {},
   "source": [
    "# Define custom generator for sequential data"
   ]
  },
  {
   "cell_type": "code",
   "execution_count": 3,
   "metadata": {},
   "outputs": [],
   "source": [
    "# Define custom generator class for sequential data\n",
    "# https://stackoverflow.com/questions/55116638/use-keras-timeseriesgenerator-function-to-generate-squence-group-by-some-id\n",
    "# https://stanford.edu/~shervine/blog/keras-how-to-generate-data-on-the-fly\n",
    "class DataGenerator(keras.utils.Sequence):\n",
    "    #'Generates data for Keras'\n",
    "    def __init__(self, data, length, batch_size=32):\n",
    "        self.tgs = list()\n",
    "        unique_game_ids = data['GAME_ID'].unique().tolist()\n",
    "        for game_id in unique_game_ids:\n",
    "            game_data = data[data['GAME_ID'] == game_id]\n",
    "            final_score = game_data['OUTCOME_HT_SCORE_DIFF'].values[0]\n",
    "            # pad length - 1 zero rows to head game df\n",
    "            zero_pad_game_id_df = pd.DataFrame(data=np.full((length-1, 1), game_id), columns=['GAME_ID'])\n",
    "            zero_pad_zeros_df = pd.DataFrame(data=np.full((length-1, 3), 0), columns=['GAME_TIME', 'HT_SCORE_DIFF', 'HT_POSS'])\n",
    "            zero_pad_final_score_df = pd.DataFrame(data=np.full((length-1, 1), final_score), columns=['OUTCOME_HT_SCORE_DIFF'])\n",
    "            zero_df = pd.concat([zero_pad_game_id_df, zero_pad_zeros_df, zero_pad_final_score_df], axis=1, sort=False)\n",
    "            # pad extra tail row to game df\n",
    "            game_tail = game_data.tail(1)\n",
    "            zero_padded_game_data = pd.concat([zero_df, game_data, game_tail], sort=False)\n",
    "            self.tgs.append(keras.preprocessing.sequence.TimeseriesGenerator(zero_padded_game_data[['GAME_TIME', 'HT_SCORE_DIFF', 'HT_POSS']].values, zero_padded_game_data['OUTCOME_HT_SCORE_DIFF'].values, length, batch_size=batch_size))\n",
    "            \n",
    "        self.len = sum([len(tg) for tg in self.tgs])\n",
    "        self.idx_i = list()\n",
    "        self.idx_j = list()\n",
    "        \n",
    "        for i, tg in enumerate(self.tgs):\n",
    "            self.idx_i.extend(list(range(len(tg))))\n",
    "            self.idx_j.extend([i] * len(tg))\n",
    "            \n",
    "    def __len__(self):\n",
    "        return self.len\n",
    "    \n",
    "    def __getitem__(self, index):\n",
    "        return self.tgs[self.idx_j[index]][self.idx_i[index]]"
   ]
  },
  {
   "cell_type": "markdown",
   "metadata": {},
   "source": [
    "# Create sequential data for model fitting"
   ]
  },
  {
   "cell_type": "code",
   "execution_count": 4,
   "metadata": {},
   "outputs": [],
   "source": [
    "SEQ_LENGTH = 20\n",
    "BATCH_SIZE = 32\n",
    "train_gen = DataGenerator(train, SEQ_LENGTH, BATCH_SIZE)\n",
    "test_internal_gen = DataGenerator(test_internal, SEQ_LENGTH, BATCH_SIZE)\n",
    "test_external_gen = DataGenerator(test_external, SEQ_LENGTH, BATCH_SIZE)"
   ]
  },
  {
   "cell_type": "markdown",
   "metadata": {},
   "source": [
    "# Define neural network architecture"
   ]
  },
  {
   "cell_type": "code",
   "execution_count": 6,
   "metadata": {},
   "outputs": [
    {
     "name": "stderr",
     "output_type": "stream",
     "text": [
      "WARNING: Logging before flag parsing goes to stderr.\n",
      "W0117 13:54:19.083522 4631725504 deprecation_wrapper.py:119] From /Users/henrypoole/anaconda3/envs/thesis-v2/lib/python3.6/site-packages/keras/backend/tensorflow_backend.py:74: The name tf.get_default_graph is deprecated. Please use tf.compat.v1.get_default_graph instead.\n",
      "\n",
      "W0117 13:54:19.109334 4631725504 deprecation_wrapper.py:119] From /Users/henrypoole/anaconda3/envs/thesis-v2/lib/python3.6/site-packages/keras/backend/tensorflow_backend.py:517: The name tf.placeholder is deprecated. Please use tf.compat.v1.placeholder instead.\n",
      "\n",
      "W0117 13:54:19.112070 4631725504 deprecation_wrapper.py:119] From /Users/henrypoole/anaconda3/envs/thesis-v2/lib/python3.6/site-packages/keras/backend/tensorflow_backend.py:4138: The name tf.random_uniform is deprecated. Please use tf.random.uniform instead.\n",
      "\n",
      "W0117 13:54:19.224455 4631725504 deprecation_wrapper.py:119] From /Users/henrypoole/anaconda3/envs/thesis-v2/lib/python3.6/site-packages/keras/optimizers.py:790: The name tf.train.Optimizer is deprecated. Please use tf.compat.v1.train.Optimizer instead.\n",
      "\n",
      "W0117 13:54:19.259555 4631725504 deprecation.py:323] From /Users/henrypoole/anaconda3/envs/thesis-v2/lib/python3.6/site-packages/tensorflow_probability/python/distributions/mixture.py:154: Categorical.event_size (from tensorflow_probability.python.distributions.categorical) is deprecated and will be removed after 2019-05-19.\n",
      "Instructions for updating:\n",
      "The `event_size` property is deprecated.  Use `num_categories` instead.  They have the same value, but `event_size` is misnamed.\n",
      "W0117 13:54:19.293282 4631725504 deprecation.py:323] From /Users/henrypoole/anaconda3/envs/thesis-v2/lib/python3.6/site-packages/tensorflow/python/ops/math_ops.py:2403: add_dispatch_support.<locals>.wrapper (from tensorflow.python.ops.array_ops) is deprecated and will be removed in a future version.\n",
      "Instructions for updating:\n",
      "Use tf.where in 2.0, which has the same broadcast rule as np.where\n"
     ]
    },
    {
     "name": "stdout",
     "output_type": "stream",
     "text": [
      "_________________________________________________________________\n",
      "Layer (type)                 Output Shape              Param #   \n",
      "=================================================================\n",
      "simple_rnn_1 (SimpleRNN)     (None, 4)                 32        \n",
      "_________________________________________________________________\n",
      "mdn_1 (MDN)                  (None, 3)                 15        \n",
      "=================================================================\n",
      "Total params: 47\n",
      "Trainable params: 47\n",
      "Non-trainable params: 0\n",
      "_________________________________________________________________\n"
     ]
    }
   ],
   "source": [
    "N_HIDDEN = 4\n",
    "N_MIXES = 1\n",
    "OUTPUT_DIMS = 1\n",
    "num_input_features = train_gen[0][0].shape[2]\n",
    "model = keras.Sequential()\n",
    "model.add(keras.layers.SimpleRNN(units=N_HIDDEN, input_shape=(SEQ_LENGTH, num_input_features), activation='tanh'))\n",
    "model.add(mdn.MDN(OUTPUT_DIMS, N_MIXES))\n",
    "model.compile(loss=mdn.get_mixture_loss_func(1, N_MIXES), optimizer=keras.optimizers.Adam())\n",
    "model.summary()"
   ]
  },
  {
   "cell_type": "markdown",
   "metadata": {},
   "source": [
    "# Fit model"
   ]
  },
  {
   "cell_type": "code",
   "execution_count": 7,
   "metadata": {},
   "outputs": [
    {
     "name": "stderr",
     "output_type": "stream",
     "text": [
      "W0117 13:54:19.659761 4631725504 deprecation_wrapper.py:119] From /Users/henrypoole/anaconda3/envs/thesis-v2/lib/python3.6/site-packages/keras/backend/tensorflow_backend.py:986: The name tf.assign_add is deprecated. Please use tf.compat.v1.assign_add instead.\n",
      "\n",
      "W0117 13:54:19.752282 4631725504 deprecation_wrapper.py:119] From /Users/henrypoole/anaconda3/envs/thesis-v2/lib/python3.6/site-packages/keras/backend/tensorflow_backend.py:973: The name tf.assign is deprecated. Please use tf.compat.v1.assign instead.\n",
      "\n"
     ]
    },
    {
     "name": "stdout",
     "output_type": "stream",
     "text": [
      "Epoch 1/5\n",
      "64308/64308 [==============================] - 661s 10ms/step - loss: 41.4329 - val_loss: 3.8203\n",
      "Epoch 2/5\n",
      "64308/64308 [==============================] - 665s 10ms/step - loss: 175.2781 - val_loss: 3.7118\n",
      "Epoch 3/5\n",
      "64308/64308 [==============================] - 697s 11ms/step - loss: 3.6671 - val_loss: 3.6298\n",
      "Epoch 4/5\n",
      "64308/64308 [==============================] - 699s 11ms/step - loss: 3.5771 - val_loss: 3.6230\n",
      "Epoch 5/5\n",
      "64308/64308 [==============================] - 673s 10ms/step - loss: 3.5980 - val_loss: 3.6036\n"
     ]
    }
   ],
   "source": [
    "model_fit = model.fit_generator(generator=train_gen, validation_data=test_internal_gen, epochs=5)"
   ]
  },
  {
   "cell_type": "markdown",
   "metadata": {},
   "source": [
    "# Save model"
   ]
  },
  {
   "cell_type": "code",
   "execution_count": 13,
   "metadata": {},
   "outputs": [],
   "source": [
    "model_json = model.to_json()\n",
    "with open(\"base_rmdn_model_{}mix_seq_length_{}.json\".format(N_MIXES, SEQ_LENGTH), \"w\") as json_file:\n",
    "    json_file.write(model_json)\n",
    "# serialize weights to HDF5\n",
    "model.save_weights(\"base_rmdn_model_{}mix_seq_length_{}.h5\".format(N_MIXES, SEQ_LENGTH))"
   ]
  },
  {
   "cell_type": "markdown",
   "metadata": {},
   "source": [
    "# Plot training/validation loss"
   ]
  },
  {
   "cell_type": "code",
   "execution_count": 14,
   "metadata": {},
   "outputs": [
    {
     "data": {
      "image/png": "[encoded data removed]",
      "text/plain": [
       "<Figure size 720x360 with 1 Axes>"
      ]
     },
     "metadata": {
      "needs_background": "light"
     },
     "output_type": "display_data"
    }
   ],
   "source": [
    "plt.figure(figsize=(10, 5))\n",
    "plt.plot(model_fit.history['loss'])\n",
    "plt.plot(model_fit.history['val_loss'])\n",
    "plt.title('RMDN With {} Mixture Component And Seq Length {} Base Features Training Loss'.format(N_MIXES, SEQ_LENGTH))\n",
    "plt.ylabel('Loss')\n",
    "plt.xlabel('Epoch')\n",
    "plt.legend(['Train', 'Validation'], loc='upper left')\n",
    "plt.show()"
   ]
  },
  {
   "cell_type": "markdown",
   "metadata": {},
   "source": [
    "# Make binary class and probabilistic predictions"
   ]
  },
  {
   "cell_type": "code",
   "execution_count": 9,
   "metadata": {},
   "outputs": [],
   "source": [
    "# Define helper functions\n",
    "\n",
    "# calculate cdf of mixture\n",
    "def calculate_mixture_cdf(mus, sigmas, weights, x=0):\n",
    "    mixture_cdf = 0.0\n",
    "    for component_num, weight in enumerate(weights):\n",
    "        #print('Mu =  ', mus[component_num])\n",
    "        #print('Sigma = ', sigmas[component_num])\n",
    "        #print('Weight = ', weight)\n",
    "        component_dist = norm(loc=mus[component_num], scale=sigmas[component_num])\n",
    "        component_cdf = component_dist.cdf(x)\n",
    "        #print('Component CDF = ', component_cdf)\n",
    "        mixture_cdf += (component_cdf * weight)\n",
    "        \n",
    "    return mixture_cdf\n",
    "\n",
    "# calculate win prob as 1 - cdf\n",
    "def calculate_home_team_win_prob(mus, sigmas, weights):\n",
    "    home_team_win_prob = 1 - calculate_mixture_cdf(mus, sigmas, weights)\n",
    "    return home_team_win_prob\n",
    "\n",
    "# rmdn predict function\n",
    "def rmdn_predict(rmdn_model, x_gen, num_mixes, num_output_dims):\n",
    "    pred_raw_params = rmdn_model.predict_generator(x_gen)\n",
    "    pred_split_params = np.apply_along_axis(mdn.split_mixture_params, 1, pred_raw_params, num_output_dims, num_mixes)\n",
    "    pred_split_params[:, 2, :] = np.apply_along_axis(mdn.softmax, axis=1, arr=pred_split_params[:, 2, :])\n",
    "    pred_mus = pred_split_params[:, 0, :]\n",
    "    pred_sigmas = np.sqrt(pred_split_params[:, 1, :])\n",
    "    pred_weights = pred_split_params[:, 2, :]\n",
    "    pred_win_prob = np.zeros(pred_split_params.shape[0])\n",
    "    for i in range(len(pred_win_prob)):\n",
    "        pred_win_prob[i] = calculate_home_team_win_prob(pred_mus[i, :], pred_sigmas[i, :], pred_weights[i, :])\n",
    "        \n",
    "    return pred_win_prob"
   ]
  },
  {
   "cell_type": "code",
   "execution_count": 10,
   "metadata": {},
   "outputs": [
    {
     "name": "stdout",
     "output_type": "stream",
     "text": [
      "(32,)\n"
     ]
    }
   ],
   "source": [
    "print(train_gen[0][1].shape)"
   ]
  },
  {
   "cell_type": "code",
   "execution_count": 12,
   "metadata": {},
   "outputs": [],
   "source": [
    "# Make probabilistic predictions\n",
    "Y_train_prob_pred = rmdn_predict(model, train_gen, N_MIXES, OUTPUT_DIMS)\n",
    "Y_test_internal_prob_pred = rmdn_predict(model, test_internal_gen, N_MIXES, OUTPUT_DIMS)\n",
    "Y_test_external_prob_pred = rmdn_predict(model, test_external_gen, N_MIXES, OUTPUT_DIMS)\n",
    "\n",
    "# Convert to binary predictions\n",
    "Y_train_class_pred = np.where(Y_train_prob_pred <= 0.5, 0, 1)\n",
    "Y_test_internal_class_pred = np.where(Y_test_internal_prob_pred <= 0.5, 0, 1)\n",
    "Y_test_external_class_pred = np.where(Y_test_external_prob_pred <= 0.5, 0, 1)\n",
    "\n",
    "# Save predictions as .csv\n",
    "Y_train_pred = pd.DataFrame({'class_pred':Y_train_class_pred, 'prob_pred':Y_train_prob_pred})\n",
    "Y_train_pred.to_csv('./data/base_rmdn_{}mix_seq_length_{}_train_predictions.csv'.format(N_MIXES, SEQ_LENGTH), index=False)\n",
    "\n",
    "Y_test_internal_pred = pd.DataFrame({'class_pred':Y_test_internal_class_pred, 'prob_pred':Y_test_internal_prob_pred})\n",
    "Y_test_internal_pred.to_csv('./data/base_rmdn_{}mix_seq_length_{}_test_internal_predictions.csv'.format(N_MIXES, SEQ_LENGTH), index=False)\n",
    "\n",
    "Y_test_external_pred = pd.DataFrame({'class_pred':Y_test_external_class_pred, 'prob_pred':Y_test_external_prob_pred})\n",
    "Y_test_external_pred.to_csv('./data/base_rmdn_{}mix_seq_length_{}_test_external_predictions.csv'.format(N_MIXES, SEQ_LENGTH), index=False)"
   ]
  },
  {
   "cell_type": "markdown",
   "metadata": {},
   "source": [
    "# Evaluate Results"
   ]
  },
  {
   "cell_type": "code",
   "execution_count": 13,
   "metadata": {},
   "outputs": [],
   "source": [
    "# Classification reports\n",
    "train_classification_report = classification_report(Y_train, Y_train_class_pred, target_names=['Away Team Win', 'Home Team Win'], digits=4)\n",
    "test_internal_classification_report = classification_report(Y_test_internal, Y_test_internal_class_pred, target_names=['Away Team Win', 'Home Team Win'], digits=4)\n",
    "test_external_classification_report = classification_report(Y_test_external, Y_test_external_class_pred, target_names=['Away Team Win', 'Home Team Win'], digits=4)"
   ]
  },
  {
   "cell_type": "code",
   "execution_count": 14,
   "metadata": {},
   "outputs": [
    {
     "name": "stdout",
     "output_type": "stream",
     "text": [
      "               precision    recall  f1-score   support\n",
      "\n",
      "Away Team Win     0.6997    0.6131    0.6536    779434\n",
      "Home Team Win     0.7692    0.8304    0.7986   1209790\n",
      "\n",
      "     accuracy                         0.7453   1989224\n",
      "    macro avg     0.7344    0.7218    0.7261   1989224\n",
      " weighted avg     0.7419    0.7453    0.7418   1989224\n",
      "\n"
     ]
    }
   ],
   "source": [
    "print(train_classification_report)"
   ]
  },
  {
   "cell_type": "code",
   "execution_count": 15,
   "metadata": {},
   "outputs": [
    {
     "name": "stdout",
     "output_type": "stream",
     "text": [
      "               precision    recall  f1-score   support\n",
      "\n",
      "Away Team Win     0.7276    0.6195    0.6692     96760\n",
      "Home Team Win     0.7414    0.8247    0.7808    128011\n",
      "\n",
      "     accuracy                         0.7364    224771\n",
      "    macro avg     0.7345    0.7221    0.7250    224771\n",
      " weighted avg     0.7355    0.7364    0.7328    224771\n",
      "\n"
     ]
    }
   ],
   "source": [
    "print(test_internal_classification_report)"
   ]
  },
  {
   "cell_type": "code",
   "execution_count": 16,
   "metadata": {},
   "outputs": [
    {
     "name": "stdout",
     "output_type": "stream",
     "text": [
      "               precision    recall  f1-score   support\n",
      "\n",
      "Away Team Win     0.7304    0.6318    0.6775    104262\n",
      "Home Team Win     0.7267    0.8076    0.7650    126379\n",
      "\n",
      "     accuracy                         0.7281    230641\n",
      "    macro avg     0.7285    0.7197    0.7213    230641\n",
      " weighted avg     0.7284    0.7281    0.7255    230641\n",
      "\n"
     ]
    }
   ],
   "source": [
    "print(test_external_classification_report)"
   ]
  },
  {
   "cell_type": "code",
   "execution_count": 17,
   "metadata": {},
   "outputs": [],
   "source": [
    "# Calculate log loss\n",
    "train_log_loss = log_loss(Y_train, Y_train_prob_pred)\n",
    "test_internal_log_loss = log_loss(Y_test_internal, Y_test_internal_prob_pred)\n",
    "test_external_log_loss = log_loss(Y_test_external, Y_test_external_prob_pred)"
   ]
  },
  {
   "cell_type": "code",
   "execution_count": 18,
   "metadata": {},
   "outputs": [
    {
     "name": "stdout",
     "output_type": "stream",
     "text": [
      "0.7785138704351273\n"
     ]
    }
   ],
   "source": [
    "print(train_log_loss)"
   ]
  },
  {
   "cell_type": "code",
   "execution_count": 19,
   "metadata": {},
   "outputs": [
    {
     "name": "stdout",
     "output_type": "stream",
     "text": [
      "0.8750798482852044\n"
     ]
    }
   ],
   "source": [
    "print(test_internal_log_loss)"
   ]
  },
  {
   "cell_type": "code",
   "execution_count": 20,
   "metadata": {},
   "outputs": [
    {
     "name": "stdout",
     "output_type": "stream",
     "text": [
      "0.8931681944905097\n"
     ]
    }
   ],
   "source": [
    "print(test_external_log_loss)"
   ]
  },
  {
   "cell_type": "code",
   "execution_count": 21,
   "metadata": {},
   "outputs": [],
   "source": [
    "# Calculate area under ROC curve\n",
    "\n",
    "def plot_roc_curve(true, pred, title):\n",
    "    fpr, tpr, threshold = roc_curve(true, pred)\n",
    "    roc_auc = auc(fpr, tpr)\n",
    "    plt.title('{} ROC Curve'.format(title))\n",
    "    plt.plot(fpr, tpr, 'b', label = 'AUC = %0.4f' % roc_auc)\n",
    "    plt.legend(loc = 'lower right')\n",
    "    plt.plot([0, 1], [0, 1],'r--')\n",
    "    plt.xlim([0, 1])\n",
    "    plt.ylim([0, 1])\n",
    "    plt.ylabel('True Positive Rate')\n",
    "    plt.xlabel('False Positive Rate')\n",
    "    plt.show()"
   ]
  },
  {
   "cell_type": "code",
   "execution_count": 22,
   "metadata": {},
   "outputs": [
    {
     "data": {
      "image/png": "[encoded data removed]",
      "text/plain": [
       "<Figure size 432x288 with 1 Axes>"
      ]
     },
     "metadata": {
      "needs_background": "light"
     },
     "output_type": "display_data"
    }
   ],
   "source": [
    "plot_roc_curve(Y_train, Y_train_prob_pred, 'RMDN With 1 Mixture Component And Seq Length 20: Training Set')"
   ]
  },
  {
   "cell_type": "code",
   "execution_count": 23,
   "metadata": {},
   "outputs": [
    {
     "data": {
      "image/png": "[encoded data removed]",
      "text/plain": [
       "<Figure size 432x288 with 1 Axes>"
      ]
     },
     "metadata": {
      "needs_background": "light"
     },
     "output_type": "display_data"
    }
   ],
   "source": [
    "plot_roc_curve(Y_test_internal, Y_test_internal_prob_pred, 'RMDN With 1 Mixture Component And Seq Length 20: Internal Testing Set')"
   ]
  },
  {
   "cell_type": "code",
   "execution_count": 24,
   "metadata": {},
   "outputs": [
    {
     "data": {
      "image/png": "[encoded data removed]",
      "text/plain": [
       "<Figure size 432x288 with 1 Axes>"
      ]
     },
     "metadata": {
      "needs_background": "light"
     },
     "output_type": "display_data"
    }
   ],
   "source": [
    "plot_roc_curve(Y_test_external, Y_test_external_prob_pred, 'RMDN With 1 Mixture Component And Seq Length 20: External Testing Set')"
   ]
  },
  {
   "cell_type": "code",
   "execution_count": null,
   "metadata": {},
   "outputs": [],
   "source": []
  },
  {
   "cell_type": "code",
   "execution_count": null,
   "metadata": {},
   "outputs": [],
   "source": []
  }
 ],
 "metadata": {
  "kernelspec": {
   "display_name": "Python 3",
   "language": "python",
   "name": "python3"
  },
  "language_info": {
   "codemirror_mode": {
    "name": "ipython",
    "version": 3
   },
   "file_extension": ".py",
   "mimetype": "text/x-python",
   "name": "python",
   "nbconvert_exporter": "python",
   "pygments_lexer": "ipython3",
   "version": "3.6.8"
  }
 },
 "nbformat": 4,
 "nbformat_minor": 2
}
